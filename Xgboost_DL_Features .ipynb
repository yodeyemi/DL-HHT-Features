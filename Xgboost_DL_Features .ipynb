{
 "cells": [
  {
   "cell_type": "code",
   "execution_count": 1,
   "metadata": {},
   "outputs": [],
   "source": [
    "import pandas as pd\n",
    "import numpy as np\n",
    "# prepare the pipeline\n",
    "from sklearn.pipeline import make_pipeline\n",
    "from sklearn.preprocessing import StandardScaler\n",
    "#from sklearn.linear_model import LogisticRegression\n",
    "from xgboost import XGBClassifier\n",
    "from sklearn.metrics import accuracy_score\n",
    "# fit model on training data\n",
    "\n",
    "#from sklearn.externals import joblib\n",
    "import joblib"
   ]
  },
  {
   "cell_type": "code",
   "execution_count": 2,
   "metadata": {},
   "outputs": [],
   "source": [
    "path='C:\\\\Users\\\\oodeyemi\\\\Desktop\\\\Peng_code\\\\DL_features_v3_Qi_unrolled\\\\'\n",
    "\n",
    "traindf = pd.read_csv(path+ 'train_DL_features.csv')\n",
    "valdf = pd.read_csv(path+ 'val_DL_features.csv')\n",
    "testdf = pd.read_csv(path+ 'test_DL_features.csv')"
   ]
  },
  {
   "cell_type": "code",
   "execution_count": 3,
   "metadata": {},
   "outputs": [
    {
     "data": {
      "text/plain": [
       "(18816, 328)"
      ]
     },
     "execution_count": 3,
     "metadata": {},
     "output_type": "execute_result"
    }
   ],
   "source": [
    "#list(traindf.columns)\n",
    "\n",
    "testdf.shape"
   ]
  },
  {
   "cell_type": "markdown",
   "metadata": {},
   "source": [
    "train = traindf.filter(regex='DL_F|GI|Conc|anti|strains')\n",
    "val = valdf.filter(regex='DL_F|GI|Conc|anti|strains')\n",
    "test = testdf.filter(regex='DL_F|GI|Conc|anti|strains')"
   ]
  },
  {
   "cell_type": "code",
   "execution_count": 4,
   "metadata": {},
   "outputs": [],
   "source": [
    "train = traindf.query(\"anti == 'CFPM' & strains == 'K.PNEUMONIAE'\")\n",
    "val = valdf.query(\"anti == 'CFPM' & strains == 'K.PNEUMONIAE'\")\n",
    "test = testdf.query(\"anti == 'CFPM' & strains == 'K.PNEUMONIAE'\")"
   ]
  },
  {
   "cell_type": "code",
   "execution_count": 5,
   "metadata": {},
   "outputs": [
    {
     "data": {
      "text/plain": [
       "(224, 328)"
      ]
     },
     "execution_count": 5,
     "metadata": {},
     "output_type": "execute_result"
    }
   ],
   "source": [
    "#test.columns\n",
    "train.shape\n",
    "val.shape\n",
    "test.shape"
   ]
  },
  {
   "cell_type": "code",
   "execution_count": 6,
   "metadata": {},
   "outputs": [],
   "source": [
    "#print(train.columns)\n",
    "train= train.filter(regex='DL_F|GI|Conc')\n",
    "val = val.filter(regex='DL_F|GI|Conc')\n",
    "test = test.filter(regex='DL_F|GI|Conc')"
   ]
  },
  {
   "cell_type": "raw",
   "metadata": {},
   "source": [
    "train= pd.get_dummies(data =train, columns= ['strains', 'anti'])\n",
    "val = pd.get_dummies(data = val, columns= ['strains', 'anti'])\n",
    "test = pd.get_dummies(data = test, columns= ['strains', 'anti'])"
   ]
  },
  {
   "cell_type": "code",
   "execution_count": null,
   "metadata": {},
   "outputs": [],
   "source": [
    "train.sample(frac = 1)"
   ]
  },
  {
   "cell_type": "code",
   "execution_count": 7,
   "metadata": {},
   "outputs": [],
   "source": [
    "X_train = train.drop('GI', axis=1)\n",
    "y_train = train['GI']\n",
    " \n",
    "\n",
    "X_val = val.drop('GI',axis = 1)\n",
    "y_val = val['GI']\n",
    "\n",
    "X_test = test.drop('GI',axis = 1)\n",
    "y_test = test['GI']"
   ]
  },
  {
   "cell_type": "code",
   "execution_count": null,
   "metadata": {},
   "outputs": [],
   "source": [
    "params = {\n",
    "        'min_child_weight': [1, 5, 10],\n",
    "        'gamma': [0.5, 1, 1.5, 2, 5],\n",
    "        'subsample': [0.6, 0.8, 1.0],\n",
    "        'colsample_bytree': [0.6, 0.8, 1.0],\n",
    "        'max_depth': [3, 4, 5]\n",
    "        }"
   ]
  },
  {
   "cell_type": "code",
   "execution_count": 8,
   "metadata": {},
   "outputs": [
    {
     "data": {
      "text/plain": [
       "['model.pkl']"
      ]
     },
     "execution_count": 8,
     "metadata": {},
     "output_type": "execute_result"
    }
   ],
   "source": [
    "\n",
    "pipe = make_pipeline(StandardScaler(),XGBClassifier(max_depth=5, n_estimators=310, learning_rate=0.01)) #StandardScaler(),max_depth=5, n_estimators=310, learning_rate=0.01\n",
    "pipe.fit(X_train,y_train)\n",
    "joblib.dump(pipe, 'model.pkl')"
   ]
  },
  {
   "cell_type": "code",
   "execution_count": 9,
   "metadata": {},
   "outputs": [
    {
     "name": "stdout",
     "output_type": "stream",
     "text": [
      "Accuracy: 99.50%\n"
     ]
    }
   ],
   "source": [
    "y_train_pred = pipe.predict(X_train)\n",
    "predix_train = [round(value) for value in y_train_pred]\n",
    "# evaluate predictions\n",
    "accuracy = accuracy_score(y_train, predix_train)\n",
    "print(\"Accuracy: %.2f%%\" % (accuracy * 100.0))"
   ]
  },
  {
   "cell_type": "code",
   "execution_count": 10,
   "metadata": {},
   "outputs": [
    {
     "name": "stdout",
     "output_type": "stream",
     "text": [
      "              precision    recall  f1-score   support\n",
      "\n",
      "         0.0       0.99      1.00      1.00       274\n",
      "         1.0       1.00      0.98      0.99       126\n",
      "\n",
      "    accuracy                           0.99       400\n",
      "   macro avg       1.00      0.99      0.99       400\n",
      "weighted avg       1.00      0.99      0.99       400\n",
      "\n"
     ]
    },
    {
     "data": {
      "text/plain": [
       "<AxesSubplot:>"
      ]
     },
     "execution_count": 10,
     "metadata": {},
     "output_type": "execute_result"
    },
    {
     "data": {
      "image/png": "[encoded data removed]",
      "text/plain": [
       "<Figure size 432x288 with 2 Axes>"
      ]
     },
     "metadata": {
      "needs_background": "light"
     },
     "output_type": "display_data"
    }
   ],
   "source": [
    "from sklearn.metrics import classification_report\n",
    "print(classification_report(y_train, y_train_pred))\n",
    "\n",
    "import seaborn as sns\n",
    "from sklearn.metrics import confusion_matrix\n",
    "cm = confusion_matrix(y_train, y_train_pred)\n",
    "cm\n",
    "\n",
    "group_names = ['TN','FP','FN','TP']\n",
    "group_counts = ['{0:0.0f}'.format(value) for value in\n",
    "                cm.flatten()]\n",
    "group_percentages = ['{0:.2%}'.format(value) for value in\n",
    "                     cm.flatten()/np.sum(cm)]\n",
    "labels = [f'{v1}\\n{v2}\\n{v3}' for v1, v2, v3 in\n",
    "          zip(group_names,group_counts,group_percentages)]\n",
    "labels = np.asarray(labels).reshape(2,2)\n",
    "sns.heatmap(cm, annot=labels, fmt='', cmap='Blues')"
   ]
  },
  {
   "cell_type": "code",
   "execution_count": 11,
   "metadata": {},
   "outputs": [
    {
     "data": {
      "text/plain": [
       "Index(['Concentration', 'GI', 'DL_Features0_0', 'DL_Features0_1',\n",
       "       'DL_Features0_2', 'DL_Features0_3', 'DL_Features0_4', 'DL_Features0_5',\n",
       "       'DL_Features0_6', 'DL_Features0_7',\n",
       "       ...\n",
       "       'DL_Features1_119', 'DL_Features1_120', 'DL_Features1_121',\n",
       "       'DL_Features1_122', 'DL_Features1_123', 'DL_Features1_124',\n",
       "       'DL_Features1_125', 'DL_Features1_126', 'DL_Features1_127', 'GI_pred'],\n",
       "      dtype='object', length=259)"
      ]
     },
     "execution_count": 11,
     "metadata": {},
     "output_type": "execute_result"
    }
   ],
   "source": [
    "train['GI_pred'] = y_train_pred\n",
    "train.columns"
   ]
  },
  {
   "cell_type": "raw",
   "metadata": {},
   "source": [
    "\n",
    "traindf['GI_pred'] = y_train_pred\n",
    "traindf.columns"
   ]
  },
  {
   "cell_type": "code",
   "execution_count": 12,
   "metadata": {},
   "outputs": [
    {
     "name": "stdout",
     "output_type": "stream",
     "text": [
      "Accuracy: 90.28%\n"
     ]
    }
   ],
   "source": [
    "#Loading the saved model with joblib\n",
    "pipe = joblib.load('model.pkl')\n",
    "\n",
    "# New data to predict\n",
    "X_val \n",
    "y_val \n",
    "\n",
    "y_val_pred = pipe.predict(X_val)\n",
    "predix_val = [round(value) for value in y_val_pred]\n",
    "# evaluate predictions\n",
    "accuracy = accuracy_score(y_val, predix_val)\n",
    "print(\"Accuracy: %.2f%%\" % (accuracy * 100.0))"
   ]
  },
  {
   "cell_type": "code",
   "execution_count": null,
   "metadata": {},
   "outputs": [],
   "source": [
    "val.columns\n",
    "val['GI_pred'] = y_val_pred\n",
    "val.columns"
   ]
  },
  {
   "cell_type": "markdown",
   "metadata": {},
   "source": [
    "valdf.columns\n",
    "valdf['GI_pred'] = y_val_pred\n",
    "valdf.columns"
   ]
  },
  {
   "cell_type": "code",
   "execution_count": 13,
   "metadata": {},
   "outputs": [
    {
     "data": {
      "text/plain": [
       "<AxesSubplot:>"
      ]
     },
     "execution_count": 13,
     "metadata": {},
     "output_type": "execute_result"
    },
    {
     "data": {
      "image/png": "[encoded data removed]",
      "text/plain": [
       "<Figure size 432x288 with 2 Axes>"
      ]
     },
     "metadata": {
      "needs_background": "light"
     },
     "output_type": "display_data"
    }
   ],
   "source": [
    "import seaborn as sns\n",
    "from sklearn.metrics import confusion_matrix\n",
    "cm = confusion_matrix(y_val, y_val_pred)\n",
    "cm\n",
    "\n",
    "group_names = ['TN','FP','FN','TP']\n",
    "group_counts = ['{0:0.0f}'.format(value) for value in\n",
    "                cm.flatten()]\n",
    "group_percentages = ['{0:.2%}'.format(value) for value in\n",
    "                     cm.flatten()/np.sum(cm)]\n",
    "labels = [f'{v1}\\n{v2}\\n{v3}' for v1, v2, v3 in\n",
    "          zip(group_names,group_counts,group_percentages)]\n",
    "labels = np.asarray(labels).reshape(2,2)\n",
    "sns.heatmap(cm, annot=labels, fmt='', cmap='Oranges')"
   ]
  },
  {
   "cell_type": "code",
   "execution_count": 14,
   "metadata": {},
   "outputs": [
    {
     "name": "stdout",
     "output_type": "stream",
     "text": [
      "              precision    recall  f1-score   support\n",
      "\n",
      "         0.0       0.91      0.96      0.94       105\n",
      "         1.0       0.88      0.74      0.81        39\n",
      "\n",
      "    accuracy                           0.90       144\n",
      "   macro avg       0.89      0.85      0.87       144\n",
      "weighted avg       0.90      0.90      0.90       144\n",
      "\n"
     ]
    }
   ],
   "source": [
    "from sklearn.metrics import classification_report\n",
    "print(classification_report(y_val, y_val_pred))"
   ]
  },
  {
   "cell_type": "code",
   "execution_count": 15,
   "metadata": {},
   "outputs": [
    {
     "name": "stdout",
     "output_type": "stream",
     "text": [
      "Accuracy: 84.82%\n"
     ]
    }
   ],
   "source": [
    "y_test_pred = pipe.predict(X_test)\n",
    "y_test_pred\n",
    "\n",
    "predix_test = [round(value) for value in y_test_pred]\n",
    "# evaluate predictions\n",
    "accuracy = accuracy_score(y_test, predix_test)\n",
    "print(\"Accuracy: %.2f%%\" % (accuracy * 100.0))"
   ]
  },
  {
   "cell_type": "code",
   "execution_count": 16,
   "metadata": {},
   "outputs": [
    {
     "data": {
      "text/plain": [
       "Index(['Concentration', 'GI', 'DL_Features0_0', 'DL_Features0_1',\n",
       "       'DL_Features0_2', 'DL_Features0_3', 'DL_Features0_4', 'DL_Features0_5',\n",
       "       'DL_Features0_6', 'DL_Features0_7',\n",
       "       ...\n",
       "       'DL_Features1_119', 'DL_Features1_120', 'DL_Features1_121',\n",
       "       'DL_Features1_122', 'DL_Features1_123', 'DL_Features1_124',\n",
       "       'DL_Features1_125', 'DL_Features1_126', 'DL_Features1_127', 'GI_pred'],\n",
       "      dtype='object', length=259)"
      ]
     },
     "execution_count": 16,
     "metadata": {},
     "output_type": "execute_result"
    }
   ],
   "source": [
    "\n",
    "test[\"GI_pred\"] = y_test_pred\n",
    "test.columns"
   ]
  },
  {
   "cell_type": "raw",
   "metadata": {},
   "source": [
    "\n",
    "testdf[\"GI_pred\"] = y_test_pred\n",
    "testdf.columns"
   ]
  },
  {
   "cell_type": "code",
   "execution_count": 17,
   "metadata": {},
   "outputs": [
    {
     "data": {
      "text/plain": [
       "<AxesSubplot:>"
      ]
     },
     "execution_count": 17,
     "metadata": {},
     "output_type": "execute_result"
    },
    {
     "data": {
      "image/png": "[encoded data removed]",
      "text/plain": [
       "<Figure size 432x288 with 2 Axes>"
      ]
     },
     "metadata": {
      "needs_background": "light"
     },
     "output_type": "display_data"
    }
   ],
   "source": [
    "cm = confusion_matrix(y_test, y_test_pred)\n",
    "cm\n",
    "\n",
    "group_names = ['TN','FP','FN','TP']\n",
    "group_counts = ['{0:0.0f}'.format(value) for value in\n",
    "                cm.flatten()]\n",
    "group_percentages = ['{0:.2%}'.format(value) for value in\n",
    "                     cm.flatten()/np.sum(cm)]\n",
    "labels = [f'{v1}\\n{v2}\\n{v3}' for v1, v2, v3 in\n",
    "          zip(group_names,group_counts,group_percentages)]\n",
    "labels = np.asarray(labels).reshape(2,2)\n",
    "sns.heatmap(cm, annot=labels, fmt='', cmap='Greens')"
   ]
  },
  {
   "cell_type": "code",
   "execution_count": 18,
   "metadata": {},
   "outputs": [
    {
     "name": "stdout",
     "output_type": "stream",
     "text": [
      "              precision    recall  f1-score   support\n",
      "\n",
      "         0.0       0.84      0.96      0.90       158\n",
      "         1.0       0.86      0.58      0.69        66\n",
      "\n",
      "    accuracy                           0.85       224\n",
      "   macro avg       0.85      0.77      0.80       224\n",
      "weighted avg       0.85      0.85      0.84       224\n",
      "\n"
     ]
    }
   ],
   "source": [
    "from sklearn.metrics import classification_report\n",
    "print(classification_report(y_test, y_test_pred))"
   ]
  },
  {
   "cell_type": "code",
   "execution_count": null,
   "metadata": {},
   "outputs": [],
   "source": [
    "myclf = pipe"
   ]
  },
  {
   "cell_type": "code",
   "execution_count": null,
   "metadata": {},
   "outputs": [],
   "source": [
    "!pip install FeatureImportance"
   ]
  },
  {
   "cell_type": "code",
   "execution_count": null,
   "metadata": {},
   "outputs": [],
   "source": [
    "features  = X_train.columns\n",
    "features"
   ]
  },
  {
   "cell_type": "markdown",
   "metadata": {},
   "source": [
    "# AA and EA calculation"
   ]
  },
  {
   "cell_type": "code",
   "execution_count": null,
   "metadata": {},
   "outputs": [],
   "source": [
    "growthThresh = 0.5"
   ]
  },
  {
   "cell_type": "code",
   "execution_count": null,
   "metadata": {},
   "outputs": [],
   "source": [
    "!pip install opencv-python"
   ]
  },
  {
   "cell_type": "code",
   "execution_count": null,
   "metadata": {},
   "outputs": [],
   "source": [
    "import pip\n",
    "pip.main(['install','xlsxwriter'])"
   ]
  },
  {
   "cell_type": "code",
   "execution_count": null,
   "metadata": {},
   "outputs": [],
   "source": [
    "import numpy as np\n",
    "import matplotlib.pyplot as plt\n",
    "from glob import glob\n",
    "\n",
    "import csv\n",
    "import xlsxwriter\n",
    "#from tabulate import tabulate\n",
    "import pandas as pd\n",
    "from pprint import pprint\n",
    "\n",
    "import seaborn as sn\n",
    "from sklearn.metrics import confusion_matrix\n",
    "from sklearn.metrics import roc_curve, auc, RocCurveDisplay\n",
    "\n",
    "from AST_Infer_Utils import *"
   ]
  },
  {
   "cell_type": "code",
   "execution_count": null,
   "metadata": {},
   "outputs": [],
   "source": [
    "#import os \n",
    "#os.getcwd()\n",
    "os.chdir('C:\\\\Users\\\\oodeyemi\\\\Desktop\\\\Peng_code\\\\DL_features_v3\\\\DL_features_v3\\\\')"
   ]
  },
  {
   "cell_type": "code",
   "execution_count": null,
   "metadata": {},
   "outputs": [],
   "source": [
    "list(testdf.columns)"
   ]
  },
  {
   "cell_type": "code",
   "execution_count": null,
   "metadata": {},
   "outputs": [],
   "source": [
    "valdf.columns"
   ]
  },
  {
   "cell_type": "code",
   "execution_count": null,
   "metadata": {},
   "outputs": [],
   "source": [
    "resetInferDataDict()\n",
    "yTruthAll = np.array([])\n",
    "yPredAll = np.array([])\n",
    "infoListAll=np.array([])\n",
    "\n",
    "\n",
    "# test_df is the inout set, I used my test set here, you can use any alternative set\n",
    "\n",
    "for index, row in testdf.iterrows():\n",
    "   # numFeatures = row[features]\n",
    "    yTruth = row['GI']\n",
    "    infoList = ['', 0, row['strains'], row['SampleID'], row['anti'], row['Concentration'], '0']\n",
    "\n",
    "#    print(row['strain'])\n",
    "\n",
    "\n",
    "    yPred = row['GI_pred']\n",
    "    infoList = [infoList]\n",
    "    \n",
    "    yTruth = np.array(yTruth).reshape(1,1)\n",
    "    yPred = np.array(yPred).reshape(1,1)\n",
    "\n",
    "    \n",
    "    \n",
    "    if yTruthAll.size!=0:\n",
    "        yTruthAll=np.concatenate([yTruthAll, yTruth], axis=0)\n",
    "    else:\n",
    "        yTruthAll=yTruth\n",
    "    if yPredAll.size!=0:\n",
    "        yPredAll=np.concatenate([yPredAll, yPred], axis=0)\n",
    "    else:\n",
    "        yPredAll=yPred\n",
    "        \n",
    "    if infoListAll.size!=0:\n",
    "        infoListAll=np.concatenate([infoListAll, infoList], axis=0)\n",
    "    else:\n",
    "        infoListAll=np.array(infoList)\n",
    "\n",
    "    addInferData(infoList, yTruth, yPred)\n",
    "    \n",
    "    \n",
    "    \n",
    "# not needed, this will be done in a later section\n",
    "#groupCount, accAACount, accEACount, undetCount, strainSet, drugSet = compileAllInferData(growthThresh)\n"
   ]
  },
  {
   "cell_type": "code",
   "execution_count": null,
   "metadata": {},
   "outputs": [],
   "source": [
    "# please find file \"GramNeg_FullSample.csv\" in the email I sent\n",
    "\n",
    "csvFileName = 'GramNeg_FullSample.csv'\n",
    "# csvFileName = 'GramPos/GramPos_FullSample.csv'\n",
    "\n",
    "dataDict = []\n",
    "indMap = {}\n",
    "\n",
    "\n",
    "with open(csvFileName, 'r') as csvFile:\n",
    "    csvReader = csv.DictReader(csvFile)\n",
    "    \n",
    "    for n, line in enumerate(csvReader):            \n",
    "        dataDict.append(line)\n",
    "        indMap[int(line['Index'])] = n\n",
    "        \n",
    "dataDict[0]['data_type'] = ''\n",
    "dataDict[0]['GI_pred'] = ''\n",
    "        \n",
    "print('totally %d valid examples' %len(dataDict))"
   ]
  },
  {
   "cell_type": "code",
   "execution_count": null,
   "metadata": {},
   "outputs": [],
   "source": [
    "# set your local path here, where your EA results is going to be stored \n",
    "\n",
    "dataPath = 'C:\\\\Users\\\\oodeyemi\\\\Desktop\\\\Peng_code\\\\DL_features_v3\\\\DL_features_v3\\\\'\n",
    "\n",
    "predCSVFileName = dataPath + 'GramNeg_Predict.csv'\n",
    "\n",
    "with open(predCSVFileName, 'w') as csvFile:\n",
    "    sampleLine = dataDict[0]\n",
    "    csvWriter = csv.DictWriter(csvFile, sampleLine.keys())\n",
    "    csvWriter.writeheader()\n",
    "    \n",
    "    for line in dataDict:\n",
    "        csvWriter.writerow(line)"
   ]
  },
  {
   "cell_type": "code",
   "execution_count": null,
   "metadata": {},
   "outputs": [],
   "source": [
    "predXLSXFileName = dataPath + 'GramNeg_Predict.xlsx'\n",
    "workBook = xlsxwriter.Workbook(predXLSXFileName, {'strings_to_numbers': True, 'nan_inf_to_errors': True})\n",
    "\n",
    "workSheet = workBook.add_worksheet('sample prediction')\n",
    "\n",
    "workSheet.write_row(0, 0, dataDict[0].keys())\n",
    "for n, row in enumerate(dataDict):\n",
    "    workSheet.write_row(n+1, 0, row.values())"
   ]
  },
  {
   "cell_type": "code",
   "execution_count": null,
   "metadata": {},
   "outputs": [],
   "source": [
    "groupCount, accAACount, accEACount, undetCount, strainSet, drugSet = compileAllInferData(growthThresh)\n",
    "\n",
    "groupCount = np.pad(groupCount, ((0,1),(0,1)), 'constant')\n",
    "accAACount = np.pad(accAACount, ((0,1),(0,1)), 'constant')\n",
    "accEACount = np.pad(accEACount, ((0,1),(0,1)), 'constant')\n",
    "undetCount = np.pad(undetCount, ((0,1),(0,1)), 'constant')"
   ]
  },
  {
   "cell_type": "code",
   "execution_count": null,
   "metadata": {},
   "outputs": [],
   "source": [
    "strainSet"
   ]
  },
  {
   "cell_type": "code",
   "execution_count": null,
   "metadata": {},
   "outputs": [],
   "source": [
    "yPredBinaryAll = (yPredAll > growthThresh)\n",
    "\n",
    "sampCount = np.zeros((25, 25))\n",
    "errCount = np.zeros((25, 25))\n",
    "\n",
    "bias0Cent = 10\n",
    "sampCountByBias = np.zeros(bias0Cent*2 + 1)\n",
    "errCountByBias = np.zeros(bias0Cent*2 + 1)\n",
    "\n",
    "for (yt, yp, info) in zip(yTruthAll, yPredBinaryAll, infoListAll):\n",
    "    \n",
    "    if info[4] not in drugSet:\n",
    "        drugSet.append(info[4])\n",
    "\n",
    "    colInd = drugSet.index(info[4])\n",
    "\n",
    "    if info[2] not in strainSet:\n",
    "        strainSet.append(info[2])\n",
    "\n",
    "    rowInd = strainSet.index(info[2])\n",
    "    \n",
    "#   wellBias = int(info[6])\n",
    "#   biasInd = wellBias + bias0Cent\n",
    "\n",
    "    sampCount[rowInd, colInd] += 1\n",
    "#    sampCountByBias[biasInd] += 1\n",
    "\n",
    "    if yp != yt:   \n",
    "        errCount[rowInd, colInd] += 1    \n",
    "#        errCountByBias[biasInd] += 1\n",
    "    \n",
    "sampCount = sampCount[0:len(strainSet)+1, 0:len(drugSet)+1]\n",
    "errCount = errCount[0:len(strainSet)+1, 0:len(drugSet)+1]\n",
    "\n",
    "#biasEff = np.where(sampCountByBias > 0)\n",
    "#biasLow = np.min(biasEff)\n",
    "#biasHigh = np.max(biasEff)+1\n",
    "#biasRange = np.arange(biasLow-bias0Cent, biasHigh-bias0Cent)\n",
    "#bias0Cent -= biasLow\n",
    "#sampCountByBias = sampCountByBias[biasLow:biasHigh]\n",
    "#errCountByBias = errCountByBias[biasLow:biasHigh]"
   ]
  },
  {
   "cell_type": "code",
   "execution_count": null,
   "metadata": {},
   "outputs": [],
   "source": [
    "strainSet"
   ]
  },
  {
   "cell_type": "code",
   "execution_count": null,
   "metadata": {},
   "outputs": [],
   "source": [
    "sampCount[:,-1] = np.sum(sampCount, axis=1)\n",
    "sampCount[-1,:] = np.sum(sampCount, axis=0)\n",
    "errCount[:,-1] = np.sum(errCount, axis=1)\n",
    "errCount[-1,:] = np.sum(errCount, axis=0)\n",
    "groupCount[:,-1] = np.sum(groupCount, axis=1)\n",
    "groupCount[-1,:] = np.sum(groupCount, axis=0)\n",
    "accAACount[:,-1] = np.sum(accAACount, axis=1)\n",
    "accAACount[-1,:] = np.sum(accAACount, axis=0)\n",
    "accEACount[:,-1] = np.sum(accEACount, axis=1)\n",
    "accEACount[-1,:] = np.sum(accEACount, axis=0)\n",
    "undetCount[:,-1] = np.sum(undetCount, axis=1)\n",
    "undetCount[-1,:] = np.sum(undetCount, axis=0)"
   ]
  },
  {
   "cell_type": "markdown",
   "metadata": {},
   "source": [
    "pip install tabulate"
   ]
  },
  {
   "cell_type": "code",
   "execution_count": null,
   "metadata": {},
   "outputs": [],
   "source": [
    "\n",
    "from tabulate import tabulate"
   ]
  },
  {
   "cell_type": "code",
   "execution_count": null,
   "metadata": {},
   "outputs": [],
   "source": [
    "tableHeader = list([''] + drugSet)\n",
    "tableDataCount = []\n",
    "tableDataGroupCount = []\n",
    "tableDataAcc = []\n",
    "tableDataAccAA = []\n",
    "tableDataAccEA = []\n",
    "tableDataUndet = []\n",
    "\n",
    "sampCount = sampCount.astype(int)\n",
    "groupCount = groupCount.astype(int)\n",
    "accRate = np.round((1 - errCount / sampCount) * 100, decimals=1)\n",
    "accAARate = np.round((accAACount / groupCount) * 100, decimals=1)\n",
    "accEARate = np.round((accEACount / groupCount) * 100, decimals=1)\n",
    "\n",
    "for n, strain in enumerate(strainSet):\n",
    "    tableDataCount.append([strainSet[n][0:6]] + list(sampCount[n]))\n",
    "    tableDataGroupCount.append([strainSet[n][0:6]] + list(groupCount[n]))\n",
    "    tableDataAcc.append([strainSet[n][0:6]] + list(accRate[n]))\n",
    "    tableDataAccAA.append([strainSet[n][0:6]] + list(accAARate[n]))\n",
    "    tableDataAccEA.append([strainSet[n][0:6]] + list(accEARate[n]))\n",
    "    tableDataUndet.append([strainSet[n][0:6]] + list(undetCount[n]))\n",
    "\n",
    "tableDataCount.append(['SUM'] + list(sampCount[-1,:]))\n",
    "tableDataGroupCount.append(['SUM'] + list(groupCount[-1,:]))\n",
    "tableDataAcc.append(['MEAN'] + list(accRate[-1,:]))\n",
    "tableDataAccAA.append(['MEAN'] + list(accAARate[-1,:]))\n",
    "tableDataAccEA.append(['MEAN'] + list(accEARate[-1,:]))\n",
    "tableDataUndet.append(['SUM'] + list(undetCount[-1,:]))\n",
    "\n",
    "sampCountTable = tabulate(tableDataCount, headers=tableHeader+['SUM'], tablefmt=\"pretty\")\n",
    "groupCountTable = tabulate(tableDataGroupCount, headers=tableHeader+['SUM'], tablefmt=\"pretty\")\n",
    "accRateTable = tabulate(tableDataAcc, headers=tableHeader+['MEAN'], tablefmt=\"pretty\", floatfmt=\".1f\")\n",
    "accAARateTable = tabulate(tableDataAccAA, headers=tableHeader+['MEAN'], tablefmt=\"pretty\", floatfmt=\".1f\")\n",
    "accEARateTable = tabulate(tableDataAccEA, headers=tableHeader+['MEAN'], tablefmt=\"pretty\", floatfmt=\".1f\")\n",
    "undetCountTable = tabulate(tableDataUndet, headers=tableHeader+['SUM'], tablefmt=\"pretty\")\n",
    "\n",
    "print('example count by species & drug groups')\n",
    "print(sampCountTable)\n",
    "print()\n",
    "print('dilution group count by species & drug groups')\n",
    "print(groupCountTable)\n",
    "print()\n",
    "print('G/I accuracy in % by species & drug groups')\n",
    "print(accRateTable)\n",
    "print()\n",
    "print('AA accuracy in % by species & drug groups')\n",
    "print(accAARateTable)\n",
    "print()\n",
    "print('EA accuracy in % by species & drug groups')\n",
    "print(accEARateTable)\n",
    "print()\n",
    "print('undeter in % by species & drug groups')\n",
    "print(undetCountTable)\n",
    "\n",
    "# plt.figure(figsize=(12,8))\n",
    "# sn.heatmap(accRate, annot=True, square=False)\n",
    "# plt.title('accuracy in % by species & drug groups')"
   ]
  },
  {
   "cell_type": "code",
   "execution_count": null,
   "metadata": {},
   "outputs": [],
   "source": [
    "workSheet = workBook.add_worksheet('sample count by group')\n",
    "\n",
    "workSheet.write_row(0, 0, tableHeader+['SUM'])\n",
    "for n, row in enumerate(tableDataCount):\n",
    "    workSheet.write_row(n+1, 0, row)\n",
    "\n",
    "workSheet.write_row(n+4, 0, ['drugs:']+drugSet)\n",
    "workSheet.write_row(n+5, 0, ['species:']+strainSet)\n",
    "\n",
    "workSheet = workBook.add_worksheet('dilution group count by group')\n",
    "\n",
    "workSheet.write_row(0, 0, tableHeader+['SUM'])\n",
    "for n, row in enumerate(tableDataGroupCount):\n",
    "    workSheet.write_row(n+1, 0, row)\n",
    "\n",
    "workSheet.write_row(n+4, 0, ['drugs:']+drugSet)\n",
    "workSheet.write_row(n+5, 0, ['species:']+strainSet)\n",
    "\n",
    "workSheet = workBook.add_worksheet('accuracy by group')\n",
    "\n",
    "workSheet.write_row(0, 0, tableHeader+['MEAN'])\n",
    "for n, row in enumerate(tableDataAcc):\n",
    "    workSheet.write_row(n+1, 0, row)\n",
    "    \n",
    "workSheet.write_row(n+4, 0, ['drugs:']+drugSet)\n",
    "workSheet.write_row(n+5, 0, ['species:']+strainSet)\n",
    "\n",
    "workSheet = workBook.add_worksheet('AA accuracy by group')\n",
    "\n",
    "workSheet.write_row(0, 0, tableHeader+['MEAN'])\n",
    "for n, row in enumerate(tableDataAccAA):\n",
    "    workSheet.write_row(n+1, 0, row)\n",
    "    \n",
    "workSheet.write_row(n+4, 0, ['drugs:']+drugSet)\n",
    "workSheet.write_row(n+5, 0, ['species:']+strainSet)\n",
    "\n",
    "workSheet = workBook.add_worksheet('EA accuracy by group')\n",
    "\n",
    "workSheet.write_row(0, 0, tableHeader+['MEAN'])\n",
    "for n, row in enumerate(tableDataAccEA):\n",
    "    workSheet.write_row(n+1, 0, row)\n",
    "    \n",
    "workSheet.write_row(n+4, 0, ['drugs:']+drugSet)\n",
    "workSheet.write_row(n+5, 0, ['species:']+strainSet)\n",
    "\n",
    "workSheet = workBook.add_worksheet('undertermined count by group')\n",
    "\n",
    "workSheet.write_row(0, 0, tableHeader+['SUM'])\n",
    "for n, row in enumerate(tableDataUndet):\n",
    "    workSheet.write_row(n+1, 0, row)\n",
    "\n",
    "workSheet.write_row(n+4, 0, ['drugs:']+drugSet)\n",
    "workSheet.write_row(n+5, 0, ['species:']+strainSet)\n",
    "\n",
    "workBook.close()"
   ]
  },
  {
   "cell_type": "code",
   "execution_count": null,
   "metadata": {},
   "outputs": [],
   "source": []
  }
 ],
 "metadata": {
  "kernelspec": {
   "display_name": "Python 3",
   "language": "python",
   "name": "python3"
  },
  "language_info": {
   "codemirror_mode": {
    "name": "ipython",
    "version": 3
   },
   "file_extension": ".py",
   "mimetype": "text/x-python",
   "name": "python",
   "nbconvert_exporter": "python",
   "pygments_lexer": "ipython3",
   "version": "3.8.5"
  }
 },
 "nbformat": 4,
 "nbformat_minor": 4
}
