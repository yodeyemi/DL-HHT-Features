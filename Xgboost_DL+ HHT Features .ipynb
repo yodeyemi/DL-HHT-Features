{
 "cells": [
  {
   "cell_type": "code",
   "execution_count": 1,
   "metadata": {},
   "outputs": [],
   "source": [
    "import pandas as pd\n",
    "import numpy as np\n",
    "# prepare the pipeline\n",
    "from sklearn.pipeline import make_pipeline\n",
    "from sklearn.preprocessing import StandardScaler\n",
    "#from sklearn.linear_model import LogisticRegression\n",
    "from xgboost import XGBClassifier\n",
    "from sklearn.metrics import accuracy_score\n",
    "# fit model on training data\n",
    "\n",
    "#from sklearn.externals import joblib\n",
    "import joblib"
   ]
  },
  {
   "cell_type": "code",
   "execution_count": 2,
   "metadata": {},
   "outputs": [],
   "source": [
    "path='C:\\\\Users\\\\oodeyemi\\\\Desktop\\\\Peng_code\\\\DL_features_v3_Qi_unrolled\\\\'\n",
    "\n",
    "traindf = pd.read_csv(path+ 'train_DL_features.csv')\n",
    "valdf = pd.read_csv(path+ 'val_DL_features.csv')\n",
    "testdf = pd.read_csv(path+ 'test_DL_features.csv')"
   ]
  },
  {
   "cell_type": "code",
   "execution_count": 58,
   "metadata": {},
   "outputs": [],
   "source": [
    "#list(traindf.columns)"
   ]
  },
  {
   "cell_type": "code",
   "execution_count": 3,
   "metadata": {},
   "outputs": [],
   "source": [
    "train = traindf.filter(regex='DL_F|GI|Conc|anti|strains')\n",
    "val = valdf.filter(regex='DL_F|GI|Conc|anti|strains')\n",
    "test = testdf.filter(regex='DL_F|GI|Conc|anti|strains')"
   ]
  },
  {
   "cell_type": "code",
   "execution_count": 4,
   "metadata": {},
   "outputs": [],
   "source": [
    "train= pd.get_dummies(data =train, columns= ['strains', 'anti'])\n",
    "val = pd.get_dummies(data = val, columns= ['strains', 'anti'])\n",
    "test = pd.get_dummies(data = test, columns= ['strains', 'anti'])"
   ]
  },
  {
   "cell_type": "code",
   "execution_count": 5,
   "metadata": {},
   "outputs": [],
   "source": [
    "X_train = train.drop('GI', axis=1)\n",
    "y_train = train['GI']\n",
    " \n",
    "\n",
    "X_val = val.drop('GI',axis = 1)\n",
    "y_val = val['GI']\n",
    "\n",
    "X_test = test.drop('GI',axis = 1)\n",
    "y_test = test['GI']"
   ]
  },
  {
   "cell_type": "code",
   "execution_count": 6,
   "metadata": {},
   "outputs": [
    {
     "data": {
      "text/plain": [
       "['model.pkl']"
      ]
     },
     "execution_count": 6,
     "metadata": {},
     "output_type": "execute_result"
    }
   ],
   "source": [
    "pipe = make_pipeline(StandardScaler(), XGBClassifier(max_depth =10)) #max_depth=5, n_estimators=310, learning_rate=0.01\n",
    "pipe.fit(X_train,y_train)\n",
    "joblib.dump(pipe, 'model.pkl')"
   ]
  },
  {
   "cell_type": "code",
   "execution_count": 7,
   "metadata": {},
   "outputs": [
    {
     "name": "stdout",
     "output_type": "stream",
     "text": [
      "Accuracy: 100.00%\n"
     ]
    }
   ],
   "source": [
    "y_train_pred = pipe.predict(X_train)\n",
    "predix_train = [round(value) for value in y_train_pred]\n",
    "# evaluate predictions\n",
    "accuracy = accuracy_score(y_train, predix_train)\n",
    "print(\"Accuracy: %.2f%%\" % (accuracy * 100.0))"
   ]
  },
  {
   "cell_type": "code",
   "execution_count": 10,
   "metadata": {},
   "outputs": [
    {
     "name": "stdout",
     "output_type": "stream",
     "text": [
      "              precision    recall  f1-score   support\n",
      "\n",
      "         0.0       1.00      1.00      1.00     21317\n",
      "         1.0       1.00      1.00      1.00     14875\n",
      "\n",
      "    accuracy                           1.00     36192\n",
      "   macro avg       1.00      1.00      1.00     36192\n",
      "weighted avg       1.00      1.00      1.00     36192\n",
      "\n"
     ]
    },
    {
     "data": {
      "text/plain": [
       "<matplotlib.axes._subplots.AxesSubplot at 0x14d042cb2b0>"
      ]
     },
     "execution_count": 10,
     "metadata": {},
     "output_type": "execute_result"
    },
    {
     "data": {
      "image/png": "[encoded data removed]",
      "text/plain": [
       "<Figure size 432x288 with 2 Axes>"
      ]
     },
     "metadata": {
      "needs_background": "light"
     },
     "output_type": "display_data"
    }
   ],
   "source": [
    "from sklearn.metrics import classification_report\n",
    "print(classification_report(y_train, y_train_pred))\n",
    "\n",
    "import seaborn as sns\n",
    "from sklearn.metrics import confusion_matrix\n",
    "cm = confusion_matrix(y_train, y_train_pred)\n",
    "cm\n",
    "\n",
    "group_names = ['TN','FP','FN','TP']\n",
    "group_counts = ['{0:0.0f}'.format(value) for value in\n",
    "                cm.flatten()]\n",
    "group_percentages = ['{0:.2%}'.format(value) for value in\n",
    "                     cm.flatten()/np.sum(cm)]\n",
    "labels = [f'{v1}\\n{v2}\\n{v3}' for v1, v2, v3 in\n",
    "          zip(group_names,group_counts,group_percentages)]\n",
    "labels = np.asarray(labels).reshape(2,2)\n",
    "sns.heatmap(cm, annot=labels, fmt='', cmap='Blues')"
   ]
  },
  {
   "cell_type": "code",
   "execution_count": 11,
   "metadata": {},
   "outputs": [
    {
     "data": {
      "text/plain": [
       "Index(['testdate', 'SampleID', 'strains', 'anti', 'Concentration', 'GI',\n",
       "       'DL_pred', 'DL_Features0_0', 'DL_Features0_1', 'DL_Features0_2',\n",
       "       ...\n",
       "       'hht_features_7_cy2', 'hht_features_7_cy3', 'hht_features_7_cy4',\n",
       "       'hht_features_7_cy5', 'hht_features_7_cy6', 'hht_features_7_cy7',\n",
       "       'hht_features_7_cy8', 'hht_features_7_cy9', 'Type', 'GI_pred'],\n",
       "      dtype='object', length=329)"
      ]
     },
     "execution_count": 11,
     "metadata": {},
     "output_type": "execute_result"
    }
   ],
   "source": [
    "\n",
    "traindf['GI_pred'] = y_train_pred\n",
    "traindf.columns"
   ]
  },
  {
   "cell_type": "code",
   "execution_count": 12,
   "metadata": {},
   "outputs": [
    {
     "name": "stdout",
     "output_type": "stream",
     "text": [
      "Accuracy: 93.31%\n"
     ]
    }
   ],
   "source": [
    "#Loading the saved model with joblib\n",
    "pipe = joblib.load('model.pkl')\n",
    "\n",
    "# New data to predict\n",
    "X_val \n",
    "y_val \n",
    "\n",
    "y_val_pred = pipe.predict(X_val)\n",
    "predix_val = [round(value) for value in y_val_pred]\n",
    "# evaluate predictions\n",
    "accuracy = accuracy_score(y_val, predix_val)\n",
    "print(\"Accuracy: %.2f%%\" % (accuracy * 100.0))"
   ]
  },
  {
   "cell_type": "code",
   "execution_count": 13,
   "metadata": {},
   "outputs": [
    {
     "data": {
      "text/plain": [
       "Index(['testdate', 'SampleID', 'strains', 'anti', 'Concentration', 'GI',\n",
       "       'DL_pred', 'DL_Features0_0', 'DL_Features0_1', 'DL_Features0_2',\n",
       "       ...\n",
       "       'hht_features_7_cy2', 'hht_features_7_cy3', 'hht_features_7_cy4',\n",
       "       'hht_features_7_cy5', 'hht_features_7_cy6', 'hht_features_7_cy7',\n",
       "       'hht_features_7_cy8', 'hht_features_7_cy9', 'Type', 'GI_pred'],\n",
       "      dtype='object', length=329)"
      ]
     },
     "execution_count": 13,
     "metadata": {},
     "output_type": "execute_result"
    }
   ],
   "source": [
    "valdf.columns\n",
    "valdf['GI_pred'] = y_val_pred\n",
    "valdf.columns"
   ]
  },
  {
   "cell_type": "code",
   "execution_count": 14,
   "metadata": {},
   "outputs": [
    {
     "data": {
      "text/plain": [
       "<matplotlib.axes._subplots.AxesSubplot at 0x14d0368b400>"
      ]
     },
     "execution_count": 14,
     "metadata": {},
     "output_type": "execute_result"
    },
    {
     "data": {
      "image/png": "[encoded data removed]",
      "text/plain": [
       "<Figure size 432x288 with 2 Axes>"
      ]
     },
     "metadata": {
      "needs_background": "light"
     },
     "output_type": "display_data"
    }
   ],
   "source": [
    "import seaborn as sns\n",
    "from sklearn.metrics import confusion_matrix\n",
    "cm = confusion_matrix(y_val, y_val_pred)\n",
    "cm\n",
    "\n",
    "group_names = ['TN','FP','FN','TP']\n",
    "group_counts = ['{0:0.0f}'.format(value) for value in\n",
    "                cm.flatten()]\n",
    "group_percentages = ['{0:.2%}'.format(value) for value in\n",
    "                     cm.flatten()/np.sum(cm)]\n",
    "labels = [f'{v1}\\n{v2}\\n{v3}' for v1, v2, v3 in\n",
    "          zip(group_names,group_counts,group_percentages)]\n",
    "labels = np.asarray(labels).reshape(2,2)\n",
    "sns.heatmap(cm, annot=labels, fmt='', cmap='Oranges')"
   ]
  },
  {
   "cell_type": "code",
   "execution_count": 15,
   "metadata": {},
   "outputs": [
    {
     "name": "stdout",
     "output_type": "stream",
     "text": [
      "              precision    recall  f1-score   support\n",
      "\n",
      "         0.0       0.92      0.97      0.94      7124\n",
      "         1.0       0.95      0.89      0.92      5020\n",
      "\n",
      "    accuracy                           0.93     12144\n",
      "   macro avg       0.94      0.93      0.93     12144\n",
      "weighted avg       0.93      0.93      0.93     12144\n",
      "\n"
     ]
    }
   ],
   "source": [
    "from sklearn.metrics import classification_report\n",
    "print(classification_report(y_val, y_val_pred))"
   ]
  },
  {
   "cell_type": "code",
   "execution_count": 16,
   "metadata": {},
   "outputs": [
    {
     "name": "stdout",
     "output_type": "stream",
     "text": [
      "Accuracy: 92.74%\n"
     ]
    }
   ],
   "source": [
    "y_test_pred = pipe.predict(X_test)\n",
    "y_test_pred\n",
    "\n",
    "predix_test = [round(value) for value in y_test_pred]\n",
    "# evaluate predictions\n",
    "accuracy = accuracy_score(y_test, predix_test)\n",
    "print(\"Accuracy: %.2f%%\" % (accuracy * 100.0))"
   ]
  },
  {
   "cell_type": "code",
   "execution_count": 17,
   "metadata": {},
   "outputs": [
    {
     "data": {
      "text/plain": [
       "Index(['testdate', 'SampleID', 'strains', 'anti', 'Concentration', 'GI',\n",
       "       'DL_pred', 'DL_Features0_0', 'DL_Features0_1', 'DL_Features0_2',\n",
       "       ...\n",
       "       'hht_features_7_cy2', 'hht_features_7_cy3', 'hht_features_7_cy4',\n",
       "       'hht_features_7_cy5', 'hht_features_7_cy6', 'hht_features_7_cy7',\n",
       "       'hht_features_7_cy8', 'hht_features_7_cy9', 'Type', 'GI_pred'],\n",
       "      dtype='object', length=329)"
      ]
     },
     "execution_count": 17,
     "metadata": {},
     "output_type": "execute_result"
    }
   ],
   "source": [
    "\n",
    "testdf[\"GI_pred\"] = y_test_pred\n",
    "testdf.columns"
   ]
  },
  {
   "cell_type": "code",
   "execution_count": null,
   "metadata": {},
   "outputs": [],
   "source": []
  },
  {
   "cell_type": "code",
   "execution_count": 18,
   "metadata": {},
   "outputs": [
    {
     "data": {
      "text/plain": [
       "<matplotlib.axes._subplots.AxesSubplot at 0x14d123205e0>"
      ]
     },
     "execution_count": 18,
     "metadata": {},
     "output_type": "execute_result"
    },
    {
     "data": {
      "image/png": "[encoded data removed]",
      "text/plain": [
       "<Figure size 432x288 with 2 Axes>"
      ]
     },
     "metadata": {
      "needs_background": "light"
     },
     "output_type": "display_data"
    }
   ],
   "source": [
    "cm = confusion_matrix(y_test, y_test_pred)\n",
    "cm\n",
    "\n",
    "group_names = ['TN','FP','FN','TP']\n",
    "group_counts = ['{0:0.0f}'.format(value) for value in\n",
    "                cm.flatten()]\n",
    "group_percentages = ['{0:.2%}'.format(value) for value in\n",
    "                     cm.flatten()/np.sum(cm)]\n",
    "labels = [f'{v1}\\n{v2}\\n{v3}' for v1, v2, v3 in\n",
    "          zip(group_names,group_counts,group_percentages)]\n",
    "labels = np.asarray(labels).reshape(2,2)\n",
    "sns.heatmap(cm, annot=labels, fmt='', cmap='Greens')"
   ]
  },
  {
   "cell_type": "code",
   "execution_count": 19,
   "metadata": {},
   "outputs": [
    {
     "name": "stdout",
     "output_type": "stream",
     "text": [
      "              precision    recall  f1-score   support\n",
      "\n",
      "         0.0       0.92      0.96      0.94     11423\n",
      "         1.0       0.93      0.88      0.90      7393\n",
      "\n",
      "    accuracy                           0.93     18816\n",
      "   macro avg       0.93      0.92      0.92     18816\n",
      "weighted avg       0.93      0.93      0.93     18816\n",
      "\n"
     ]
    }
   ],
   "source": [
    "from sklearn.metrics import classification_report\n",
    "print(classification_report(y_test, y_test_pred))"
   ]
  },
  {
   "cell_type": "code",
   "execution_count": 20,
   "metadata": {},
   "outputs": [],
   "source": [
    "myclf = pipe"
   ]
  },
  {
   "cell_type": "code",
   "execution_count": null,
   "metadata": {},
   "outputs": [],
   "source": []
  },
  {
   "cell_type": "code",
   "execution_count": 21,
   "metadata": {},
   "outputs": [
    {
     "data": {
      "text/plain": [
       "Index(['Concentration', 'DL_Features0_0', 'DL_Features0_1', 'DL_Features0_2',\n",
       "       'DL_Features0_3', 'DL_Features0_4', 'DL_Features0_5', 'DL_Features0_6',\n",
       "       'DL_Features0_7', 'DL_Features0_8',\n",
       "       ...\n",
       "       'anti_CFPM', 'anti_CPFX', 'anti_CTX', 'anti_GM', 'anti_IPM',\n",
       "       'anti_LVFX', 'anti_MEPM', 'anti_ST', 'anti_TOB', 'anti_TP'],\n",
       "      dtype='object', length=281)"
      ]
     },
     "execution_count": 21,
     "metadata": {},
     "output_type": "execute_result"
    }
   ],
   "source": [
    "features  = X_train.columns\n",
    "features"
   ]
  },
  {
   "cell_type": "markdown",
   "metadata": {},
   "source": [
    "# AA and EA calculation"
   ]
  },
  {
   "cell_type": "code",
   "execution_count": 22,
   "metadata": {},
   "outputs": [],
   "source": [
    "growthThresh = 0.5"
   ]
  },
  {
   "cell_type": "code",
   "execution_count": 23,
   "metadata": {},
   "outputs": [],
   "source": [
    "import numpy as np\n",
    "import matplotlib.pyplot as plt\n",
    "from glob import glob\n",
    "\n",
    "import csv\n",
    "import xlsxwriter\n",
    "#from tabulate import tabulate\n",
    "import pandas as pd\n",
    "from pprint import pprint\n",
    "\n",
    "import seaborn as sn\n",
    "from sklearn.metrics import confusion_matrix\n",
    "from sklearn.metrics import roc_curve, auc, RocCurveDisplay\n",
    "\n",
    "from AST_Infer_Utils import *"
   ]
  },
  {
   "cell_type": "code",
   "execution_count": 19,
   "metadata": {},
   "outputs": [
    {
     "name": "stdout",
     "output_type": "stream",
     "text": [
      "Collecting opencv-python\n",
      "  Downloading opencv_python-4.5.1.48-cp38-cp38-win_amd64.whl (34.9 MB)\n",
      "Requirement already satisfied: numpy>=1.17.3 in c:\\users\\oodeyemi\\anaconda3\\lib\\site-packages (from opencv-python) (1.18.5)\n",
      "Installing collected packages: opencv-python\n",
      "Successfully installed opencv-python-4.5.1.48\n"
     ]
    }
   ],
   "source": [
    "!pip install opencv-python"
   ]
  },
  {
   "cell_type": "code",
   "execution_count": 24,
   "metadata": {},
   "outputs": [],
   "source": [
    "#import os \n",
    "#os.getcwd()\n",
    "os.chdir('C:\\\\Users\\\\oodeyemi\\\\Desktop\\\\Peng_code\\\\DL_features_v3\\\\DL_features_v3\\\\')"
   ]
  },
  {
   "cell_type": "code",
   "execution_count": 26,
   "metadata": {},
   "outputs": [
    {
     "data": {
      "text/plain": [
       "['testdate',\n",
       " 'SampleID',\n",
       " 'strains',\n",
       " 'anti',\n",
       " 'Concentration',\n",
       " 'GI',\n",
       " 'DL_pred',\n",
       " 'DL_Features0_0',\n",
       " 'DL_Features0_1',\n",
       " 'DL_Features0_2',\n",
       " 'DL_Features0_3',\n",
       " 'DL_Features0_4',\n",
       " 'DL_Features0_5',\n",
       " 'DL_Features0_6',\n",
       " 'DL_Features0_7',\n",
       " 'DL_Features0_8',\n",
       " 'DL_Features0_9',\n",
       " 'DL_Features0_10',\n",
       " 'DL_Features0_11',\n",
       " 'DL_Features0_12',\n",
       " 'DL_Features0_13',\n",
       " 'DL_Features0_14',\n",
       " 'DL_Features0_15',\n",
       " 'DL_Features0_16',\n",
       " 'DL_Features0_17',\n",
       " 'DL_Features0_18',\n",
       " 'DL_Features0_19',\n",
       " 'DL_Features0_20',\n",
       " 'DL_Features0_21',\n",
       " 'DL_Features0_22',\n",
       " 'DL_Features0_23',\n",
       " 'DL_Features0_24',\n",
       " 'DL_Features0_25',\n",
       " 'DL_Features0_26',\n",
       " 'DL_Features0_27',\n",
       " 'DL_Features0_28',\n",
       " 'DL_Features0_29',\n",
       " 'DL_Features0_30',\n",
       " 'DL_Features0_31',\n",
       " 'DL_Features0_32',\n",
       " 'DL_Features0_33',\n",
       " 'DL_Features0_34',\n",
       " 'DL_Features0_35',\n",
       " 'DL_Features0_36',\n",
       " 'DL_Features0_37',\n",
       " 'DL_Features0_38',\n",
       " 'DL_Features0_39',\n",
       " 'DL_Features0_40',\n",
       " 'DL_Features0_41',\n",
       " 'DL_Features0_42',\n",
       " 'DL_Features0_43',\n",
       " 'DL_Features0_44',\n",
       " 'DL_Features0_45',\n",
       " 'DL_Features0_46',\n",
       " 'DL_Features0_47',\n",
       " 'DL_Features0_48',\n",
       " 'DL_Features0_49',\n",
       " 'DL_Features0_50',\n",
       " 'DL_Features0_51',\n",
       " 'DL_Features0_52',\n",
       " 'DL_Features0_53',\n",
       " 'DL_Features0_54',\n",
       " 'DL_Features0_55',\n",
       " 'DL_Features0_56',\n",
       " 'DL_Features0_57',\n",
       " 'DL_Features0_58',\n",
       " 'DL_Features0_59',\n",
       " 'DL_Features0_60',\n",
       " 'DL_Features0_61',\n",
       " 'DL_Features0_62',\n",
       " 'DL_Features0_63',\n",
       " 'DL_Features0_64',\n",
       " 'DL_Features0_65',\n",
       " 'DL_Features0_66',\n",
       " 'DL_Features0_67',\n",
       " 'DL_Features0_68',\n",
       " 'DL_Features0_69',\n",
       " 'DL_Features0_70',\n",
       " 'DL_Features0_71',\n",
       " 'DL_Features0_72',\n",
       " 'DL_Features0_73',\n",
       " 'DL_Features0_74',\n",
       " 'DL_Features0_75',\n",
       " 'DL_Features0_76',\n",
       " 'DL_Features0_77',\n",
       " 'DL_Features0_78',\n",
       " 'DL_Features0_79',\n",
       " 'DL_Features0_80',\n",
       " 'DL_Features0_81',\n",
       " 'DL_Features0_82',\n",
       " 'DL_Features0_83',\n",
       " 'DL_Features0_84',\n",
       " 'DL_Features0_85',\n",
       " 'DL_Features0_86',\n",
       " 'DL_Features0_87',\n",
       " 'DL_Features0_88',\n",
       " 'DL_Features0_89',\n",
       " 'DL_Features0_90',\n",
       " 'DL_Features0_91',\n",
       " 'DL_Features0_92',\n",
       " 'DL_Features0_93',\n",
       " 'DL_Features0_94',\n",
       " 'DL_Features0_95',\n",
       " 'DL_Features0_96',\n",
       " 'DL_Features0_97',\n",
       " 'DL_Features0_98',\n",
       " 'DL_Features0_99',\n",
       " 'DL_Features0_100',\n",
       " 'DL_Features0_101',\n",
       " 'DL_Features0_102',\n",
       " 'DL_Features0_103',\n",
       " 'DL_Features0_104',\n",
       " 'DL_Features0_105',\n",
       " 'DL_Features0_106',\n",
       " 'DL_Features0_107',\n",
       " 'DL_Features0_108',\n",
       " 'DL_Features0_109',\n",
       " 'DL_Features0_110',\n",
       " 'DL_Features0_111',\n",
       " 'DL_Features0_112',\n",
       " 'DL_Features0_113',\n",
       " 'DL_Features0_114',\n",
       " 'DL_Features0_115',\n",
       " 'DL_Features0_116',\n",
       " 'DL_Features0_117',\n",
       " 'DL_Features0_118',\n",
       " 'DL_Features0_119',\n",
       " 'DL_Features0_120',\n",
       " 'DL_Features0_121',\n",
       " 'DL_Features0_122',\n",
       " 'DL_Features0_123',\n",
       " 'DL_Features0_124',\n",
       " 'DL_Features0_125',\n",
       " 'DL_Features0_126',\n",
       " 'DL_Features0_127',\n",
       " 'DL_Features1_0',\n",
       " 'DL_Features1_1',\n",
       " 'DL_Features1_2',\n",
       " 'DL_Features1_3',\n",
       " 'DL_Features1_4',\n",
       " 'DL_Features1_5',\n",
       " 'DL_Features1_6',\n",
       " 'DL_Features1_7',\n",
       " 'DL_Features1_8',\n",
       " 'DL_Features1_9',\n",
       " 'DL_Features1_10',\n",
       " 'DL_Features1_11',\n",
       " 'DL_Features1_12',\n",
       " 'DL_Features1_13',\n",
       " 'DL_Features1_14',\n",
       " 'DL_Features1_15',\n",
       " 'DL_Features1_16',\n",
       " 'DL_Features1_17',\n",
       " 'DL_Features1_18',\n",
       " 'DL_Features1_19',\n",
       " 'DL_Features1_20',\n",
       " 'DL_Features1_21',\n",
       " 'DL_Features1_22',\n",
       " 'DL_Features1_23',\n",
       " 'DL_Features1_24',\n",
       " 'DL_Features1_25',\n",
       " 'DL_Features1_26',\n",
       " 'DL_Features1_27',\n",
       " 'DL_Features1_28',\n",
       " 'DL_Features1_29',\n",
       " 'DL_Features1_30',\n",
       " 'DL_Features1_31',\n",
       " 'DL_Features1_32',\n",
       " 'DL_Features1_33',\n",
       " 'DL_Features1_34',\n",
       " 'DL_Features1_35',\n",
       " 'DL_Features1_36',\n",
       " 'DL_Features1_37',\n",
       " 'DL_Features1_38',\n",
       " 'DL_Features1_39',\n",
       " 'DL_Features1_40',\n",
       " 'DL_Features1_41',\n",
       " 'DL_Features1_42',\n",
       " 'DL_Features1_43',\n",
       " 'DL_Features1_44',\n",
       " 'DL_Features1_45',\n",
       " 'DL_Features1_46',\n",
       " 'DL_Features1_47',\n",
       " 'DL_Features1_48',\n",
       " 'DL_Features1_49',\n",
       " 'DL_Features1_50',\n",
       " 'DL_Features1_51',\n",
       " 'DL_Features1_52',\n",
       " 'DL_Features1_53',\n",
       " 'DL_Features1_54',\n",
       " 'DL_Features1_55',\n",
       " 'DL_Features1_56',\n",
       " 'DL_Features1_57',\n",
       " 'DL_Features1_58',\n",
       " 'DL_Features1_59',\n",
       " 'DL_Features1_60',\n",
       " 'DL_Features1_61',\n",
       " 'DL_Features1_62',\n",
       " 'DL_Features1_63',\n",
       " 'DL_Features1_64',\n",
       " 'DL_Features1_65',\n",
       " 'DL_Features1_66',\n",
       " 'DL_Features1_67',\n",
       " 'DL_Features1_68',\n",
       " 'DL_Features1_69',\n",
       " 'DL_Features1_70',\n",
       " 'DL_Features1_71',\n",
       " 'DL_Features1_72',\n",
       " 'DL_Features1_73',\n",
       " 'DL_Features1_74',\n",
       " 'DL_Features1_75',\n",
       " 'DL_Features1_76',\n",
       " 'DL_Features1_77',\n",
       " 'DL_Features1_78',\n",
       " 'DL_Features1_79',\n",
       " 'DL_Features1_80',\n",
       " 'DL_Features1_81',\n",
       " 'DL_Features1_82',\n",
       " 'DL_Features1_83',\n",
       " 'DL_Features1_84',\n",
       " 'DL_Features1_85',\n",
       " 'DL_Features1_86',\n",
       " 'DL_Features1_87',\n",
       " 'DL_Features1_88',\n",
       " 'DL_Features1_89',\n",
       " 'DL_Features1_90',\n",
       " 'DL_Features1_91',\n",
       " 'DL_Features1_92',\n",
       " 'DL_Features1_93',\n",
       " 'DL_Features1_94',\n",
       " 'DL_Features1_95',\n",
       " 'DL_Features1_96',\n",
       " 'DL_Features1_97',\n",
       " 'DL_Features1_98',\n",
       " 'DL_Features1_99',\n",
       " 'DL_Features1_100',\n",
       " 'DL_Features1_101',\n",
       " 'DL_Features1_102',\n",
       " 'DL_Features1_103',\n",
       " 'DL_Features1_104',\n",
       " 'DL_Features1_105',\n",
       " 'DL_Features1_106',\n",
       " 'DL_Features1_107',\n",
       " 'DL_Features1_108',\n",
       " 'DL_Features1_109',\n",
       " 'DL_Features1_110',\n",
       " 'DL_Features1_111',\n",
       " 'DL_Features1_112',\n",
       " 'DL_Features1_113',\n",
       " 'DL_Features1_114',\n",
       " 'DL_Features1_115',\n",
       " 'DL_Features1_116',\n",
       " 'DL_Features1_117',\n",
       " 'DL_Features1_118',\n",
       " 'DL_Features1_119',\n",
       " 'DL_Features1_120',\n",
       " 'DL_Features1_121',\n",
       " 'DL_Features1_122',\n",
       " 'DL_Features1_123',\n",
       " 'DL_Features1_124',\n",
       " 'DL_Features1_125',\n",
       " 'DL_Features1_126',\n",
       " 'DL_Features1_127',\n",
       " 'hht_features_0_cy2',\n",
       " 'hht_features_0_cy3',\n",
       " 'hht_features_0_cy4',\n",
       " 'hht_features_0_cy5',\n",
       " 'hht_features_0_cy6',\n",
       " 'hht_features_0_cy7',\n",
       " 'hht_features_0_cy8',\n",
       " 'hht_features_0_cy9',\n",
       " 'hht_features_1_cy2',\n",
       " 'hht_features_1_cy3',\n",
       " 'hht_features_1_cy4',\n",
       " 'hht_features_1_cy5',\n",
       " 'hht_features_1_cy6',\n",
       " 'hht_features_1_cy7',\n",
       " 'hht_features_1_cy8',\n",
       " 'hht_features_1_cy9',\n",
       " 'hht_features_2_cy2',\n",
       " 'hht_features_2_cy3',\n",
       " 'hht_features_2_cy4',\n",
       " 'hht_features_2_cy5',\n",
       " 'hht_features_2_cy6',\n",
       " 'hht_features_2_cy7',\n",
       " 'hht_features_2_cy8',\n",
       " 'hht_features_2_cy9',\n",
       " 'hht_features_3_cy2',\n",
       " 'hht_features_3_cy3',\n",
       " 'hht_features_3_cy4',\n",
       " 'hht_features_3_cy5',\n",
       " 'hht_features_3_cy6',\n",
       " 'hht_features_3_cy7',\n",
       " 'hht_features_3_cy8',\n",
       " 'hht_features_3_cy9',\n",
       " 'hht_features_4_cy2',\n",
       " 'hht_features_4_cy3',\n",
       " 'hht_features_4_cy4',\n",
       " 'hht_features_4_cy5',\n",
       " 'hht_features_4_cy6',\n",
       " 'hht_features_4_cy7',\n",
       " 'hht_features_4_cy8',\n",
       " 'hht_features_4_cy9',\n",
       " 'hht_features_5_cy2',\n",
       " 'hht_features_5_cy3',\n",
       " 'hht_features_5_cy4',\n",
       " 'hht_features_5_cy5',\n",
       " 'hht_features_5_cy6',\n",
       " 'hht_features_5_cy7',\n",
       " 'hht_features_5_cy8',\n",
       " 'hht_features_5_cy9',\n",
       " 'hht_features_6_cy2',\n",
       " 'hht_features_6_cy3',\n",
       " 'hht_features_6_cy4',\n",
       " 'hht_features_6_cy5',\n",
       " 'hht_features_6_cy6',\n",
       " 'hht_features_6_cy7',\n",
       " 'hht_features_6_cy8',\n",
       " 'hht_features_6_cy9',\n",
       " 'hht_features_7_cy2',\n",
       " 'hht_features_7_cy3',\n",
       " 'hht_features_7_cy4',\n",
       " 'hht_features_7_cy5',\n",
       " 'hht_features_7_cy6',\n",
       " 'hht_features_7_cy7',\n",
       " 'hht_features_7_cy8',\n",
       " 'hht_features_7_cy9',\n",
       " 'Type',\n",
       " 'GI_pred']"
      ]
     },
     "execution_count": 26,
     "metadata": {},
     "output_type": "execute_result"
    }
   ],
   "source": [
    "list(testdf.columns)"
   ]
  },
  {
   "cell_type": "code",
   "execution_count": 27,
   "metadata": {},
   "outputs": [
    {
     "data": {
      "text/plain": [
       "Index(['testdate', 'SampleID', 'strains', 'anti', 'Concentration', 'GI',\n",
       "       'DL_pred', 'DL_Features0_0', 'DL_Features0_1', 'DL_Features0_2',\n",
       "       ...\n",
       "       'hht_features_7_cy2', 'hht_features_7_cy3', 'hht_features_7_cy4',\n",
       "       'hht_features_7_cy5', 'hht_features_7_cy6', 'hht_features_7_cy7',\n",
       "       'hht_features_7_cy8', 'hht_features_7_cy9', 'Type', 'GI_pred'],\n",
       "      dtype='object', length=329)"
      ]
     },
     "execution_count": 27,
     "metadata": {},
     "output_type": "execute_result"
    }
   ],
   "source": [
    "valdf.columns"
   ]
  },
  {
   "cell_type": "code",
   "execution_count": 28,
   "metadata": {},
   "outputs": [],
   "source": [
    "resetInferDataDict()\n",
    "yTruthAll = np.array([])\n",
    "yPredAll = np.array([])\n",
    "infoListAll=np.array([])\n",
    "\n",
    "\n",
    "# test_df is the inout set, I used my test set here, you can use any alternative set\n",
    "\n",
    "for index, row in testdf.iterrows():\n",
    "   # numFeatures = row[features]\n",
    "    yTruth = row['GI']\n",
    "    infoList = ['', 0, row['strains'], row['SampleID'], row['anti'], row['Concentration'], '0']\n",
    "\n",
    "#    print(row['strain'])\n",
    "\n",
    "\n",
    "    yPred = row['GI_pred']\n",
    "    infoList = [infoList]\n",
    "    \n",
    "    yTruth = np.array(yTruth).reshape(1,1)\n",
    "    yPred = np.array(yPred).reshape(1,1)\n",
    "\n",
    "    \n",
    "    \n",
    "    if yTruthAll.size!=0:\n",
    "        yTruthAll=np.concatenate([yTruthAll, yTruth], axis=0)\n",
    "    else:\n",
    "        yTruthAll=yTruth\n",
    "    if yPredAll.size!=0:\n",
    "        yPredAll=np.concatenate([yPredAll, yPred], axis=0)\n",
    "    else:\n",
    "        yPredAll=yPred\n",
    "        \n",
    "    if infoListAll.size!=0:\n",
    "        infoListAll=np.concatenate([infoListAll, infoList], axis=0)\n",
    "    else:\n",
    "        infoListAll=np.array(infoList)\n",
    "\n",
    "    addInferData(infoList, yTruth, yPred)\n",
    "    \n",
    "    \n",
    "    \n",
    "# not needed, this will be done in a later section\n",
    "#groupCount, accAACount, accEACount, undetCount, strainSet, drugSet = compileAllInferData(growthThresh)\n"
   ]
  },
  {
   "cell_type": "code",
   "execution_count": 29,
   "metadata": {},
   "outputs": [
    {
     "name": "stdout",
     "output_type": "stream",
     "text": [
      "totally 55613 valid examples\n"
     ]
    }
   ],
   "source": [
    "# please find file \"GramNeg_FullSample.csv\" in the email I sent\n",
    "\n",
    "csvFileName = 'GramNeg_FullSample.csv'\n",
    "# csvFileName = 'GramPos/GramPos_FullSample.csv'\n",
    "\n",
    "dataDict = []\n",
    "indMap = {}\n",
    "\n",
    "\n",
    "with open(csvFileName, 'r') as csvFile:\n",
    "    csvReader = csv.DictReader(csvFile)\n",
    "    \n",
    "    for n, line in enumerate(csvReader):            \n",
    "        dataDict.append(line)\n",
    "        indMap[int(line['Index'])] = n\n",
    "        \n",
    "dataDict[0]['data_type'] = ''\n",
    "dataDict[0]['GI_pred'] = ''\n",
    "        \n",
    "print('totally %d valid examples' %len(dataDict))"
   ]
  },
  {
   "cell_type": "code",
   "execution_count": 30,
   "metadata": {},
   "outputs": [],
   "source": [
    "# set your local path here, where your EA results is going to be stored \n",
    "\n",
    "dataPath = 'C:\\\\Users\\\\oodeyemi\\\\Desktop\\\\Peng_code\\\\DL_features_v3\\\\DL_features_v3\\\\'\n",
    "\n",
    "predCSVFileName = dataPath + 'GramNeg_Predict.csv'\n",
    "\n",
    "with open(predCSVFileName, 'w') as csvFile:\n",
    "    sampleLine = dataDict[0]\n",
    "    csvWriter = csv.DictWriter(csvFile, sampleLine.keys())\n",
    "    csvWriter.writeheader()\n",
    "    \n",
    "    for line in dataDict:\n",
    "        csvWriter.writerow(line)"
   ]
  },
  {
   "cell_type": "code",
   "execution_count": 31,
   "metadata": {},
   "outputs": [],
   "source": [
    "predXLSXFileName = dataPath + 'GramNeg_Predict.xlsx'\n",
    "workBook = xlsxwriter.Workbook(predXLSXFileName, {'strings_to_numbers': True, 'nan_inf_to_errors': True})\n",
    "\n",
    "workSheet = workBook.add_worksheet('sample prediction')\n",
    "\n",
    "workSheet.write_row(0, 0, dataDict[0].keys())\n",
    "for n, row in enumerate(dataDict):\n",
    "    workSheet.write_row(n+1, 0, row.values())"
   ]
  },
  {
   "cell_type": "code",
   "execution_count": 32,
   "metadata": {},
   "outputs": [
    {
     "name": "stdout",
     "output_type": "stream",
     "text": [
      "!!! Undetermined MIC in labelled data: 700603_B_16, MEPM !!!\n",
      "!!! Undetermined MIC in labelled data: 55432_B_13, TP !!!\n"
     ]
    }
   ],
   "source": [
    "groupCount, accAACount, accEACount, undetCount, strainSet, drugSet = compileAllInferData(growthThresh)\n",
    "\n",
    "groupCount = np.pad(groupCount, ((0,1),(0,1)), 'constant')\n",
    "accAACount = np.pad(accAACount, ((0,1),(0,1)), 'constant')\n",
    "accEACount = np.pad(accEACount, ((0,1),(0,1)), 'constant')\n",
    "undetCount = np.pad(undetCount, ((0,1),(0,1)), 'constant')"
   ]
  },
  {
   "cell_type": "code",
   "execution_count": 33,
   "metadata": {},
   "outputs": [
    {
     "data": {
      "text/plain": [
       "['E.COLI',\n",
       " 'K.OXYTOCA',\n",
       " 'S.MARCESCENS',\n",
       " 'P.VULGARIS',\n",
       " 'A.BAUMANNII',\n",
       " 'E.AEROGENES',\n",
       " 'C.FREUNDII',\n",
       " 'K.PNEUMONIAE',\n",
       " 'E.CLOACAE',\n",
       " 'P.RETTGERI',\n",
       " 'P.MIRABILIS',\n",
       " 'P.AERUGINOSA']"
      ]
     },
     "execution_count": 33,
     "metadata": {},
     "output_type": "execute_result"
    }
   ],
   "source": [
    "strainSet"
   ]
  },
  {
   "cell_type": "code",
   "execution_count": 34,
   "metadata": {},
   "outputs": [],
   "source": [
    "yPredBinaryAll = (yPredAll > growthThresh)\n",
    "\n",
    "sampCount = np.zeros((25, 25))\n",
    "errCount = np.zeros((25, 25))\n",
    "\n",
    "bias0Cent = 10\n",
    "sampCountByBias = np.zeros(bias0Cent*2 + 1)\n",
    "errCountByBias = np.zeros(bias0Cent*2 + 1)\n",
    "\n",
    "for (yt, yp, info) in zip(yTruthAll, yPredBinaryAll, infoListAll):\n",
    "    \n",
    "    if info[4] not in drugSet:\n",
    "        drugSet.append(info[4])\n",
    "\n",
    "    colInd = drugSet.index(info[4])\n",
    "\n",
    "    if info[2] not in strainSet:\n",
    "        strainSet.append(info[2])\n",
    "\n",
    "    rowInd = strainSet.index(info[2])\n",
    "    \n",
    "#   wellBias = int(info[6])\n",
    "#   biasInd = wellBias + bias0Cent\n",
    "\n",
    "    sampCount[rowInd, colInd] += 1\n",
    "#    sampCountByBias[biasInd] += 1\n",
    "\n",
    "    if yp != yt:   \n",
    "        errCount[rowInd, colInd] += 1    \n",
    "#        errCountByBias[biasInd] += 1\n",
    "    \n",
    "sampCount = sampCount[0:len(strainSet)+1, 0:len(drugSet)+1]\n",
    "errCount = errCount[0:len(strainSet)+1, 0:len(drugSet)+1]\n",
    "\n",
    "#biasEff = np.where(sampCountByBias > 0)\n",
    "#biasLow = np.min(biasEff)\n",
    "#biasHigh = np.max(biasEff)+1\n",
    "#biasRange = np.arange(biasLow-bias0Cent, biasHigh-bias0Cent)\n",
    "#bias0Cent -= biasLow\n",
    "#sampCountByBias = sampCountByBias[biasLow:biasHigh]\n",
    "#errCountByBias = errCountByBias[biasLow:biasHigh]"
   ]
  },
  {
   "cell_type": "code",
   "execution_count": 35,
   "metadata": {},
   "outputs": [
    {
     "data": {
      "text/plain": [
       "['E.COLI',\n",
       " 'K.OXYTOCA',\n",
       " 'S.MARCESCENS',\n",
       " 'P.VULGARIS',\n",
       " 'A.BAUMANNII',\n",
       " 'E.AEROGENES',\n",
       " 'C.FREUNDII',\n",
       " 'K.PNEUMONIAE',\n",
       " 'E.CLOACAE',\n",
       " 'P.RETTGERI',\n",
       " 'P.MIRABILIS',\n",
       " 'P.AERUGINOSA']"
      ]
     },
     "execution_count": 35,
     "metadata": {},
     "output_type": "execute_result"
    }
   ],
   "source": [
    "strainSet"
   ]
  },
  {
   "cell_type": "code",
   "execution_count": 36,
   "metadata": {},
   "outputs": [],
   "source": [
    "sampCount[:,-1] = np.sum(sampCount, axis=1)\n",
    "sampCount[-1,:] = np.sum(sampCount, axis=0)\n",
    "errCount[:,-1] = np.sum(errCount, axis=1)\n",
    "errCount[-1,:] = np.sum(errCount, axis=0)\n",
    "groupCount[:,-1] = np.sum(groupCount, axis=1)\n",
    "groupCount[-1,:] = np.sum(groupCount, axis=0)\n",
    "accAACount[:,-1] = np.sum(accAACount, axis=1)\n",
    "accAACount[-1,:] = np.sum(accAACount, axis=0)\n",
    "accEACount[:,-1] = np.sum(accEACount, axis=1)\n",
    "accEACount[-1,:] = np.sum(accEACount, axis=0)\n",
    "undetCount[:,-1] = np.sum(undetCount, axis=1)\n",
    "undetCount[-1,:] = np.sum(undetCount, axis=0)"
   ]
  },
  {
   "cell_type": "code",
   "execution_count": 36,
   "metadata": {},
   "outputs": [
    {
     "name": "stdout",
     "output_type": "stream",
     "text": [
      "Collecting tabulate\n",
      "  Using cached tabulate-0.8.7-py3-none-any.whl (24 kB)\n",
      "Installing collected packages: tabulate\n",
      "Successfully installed tabulate-0.8.7\n",
      "Note: you may need to restart the kernel to use updated packages.\n"
     ]
    }
   ],
   "source": [
    "pip install tabulate"
   ]
  },
  {
   "cell_type": "code",
   "execution_count": 37,
   "metadata": {},
   "outputs": [],
   "source": [
    "\n",
    "from tabulate import tabulate"
   ]
  },
  {
   "cell_type": "code",
   "execution_count": 38,
   "metadata": {},
   "outputs": [
    {
     "name": "stdout",
     "output_type": "stream",
     "text": [
      "example count by species & drug groups\n",
      "+--------+------+------+------+------+------+------+------+------+------+------+------+------+-------+\n",
      "|        |  GM  | TOB  | CPFX |  AS  | LVFX | IPM  | MEPM |  ST  | CAZ  | CTX  | CFPM |  TP  |  SUM  |\n",
      "+--------+------+------+------+------+------+------+------+------+------+------+------+------+-------+\n",
      "| E.COLI | 176  | 176  | 168  | 210  | 288  | 144  | 200  | 108  | 272  | 104  | 288  | 224  | 2358  |\n",
      "| K.OXYT | 120  | 104  | 112  |  98  | 160  | 112  | 120  | 132  | 136  |  96  | 128  | 152  | 1470  |\n",
      "| S.MARC | 104  | 112  |  96  | 126  | 104  | 112  | 136  | 120  | 144  | 168  | 144  | 104  | 1470  |\n",
      "| P.VULG | 136  | 104  | 120  | 133  | 168  | 112  | 136  |  60  | 184  | 112  | 128  | 152  | 1545  |\n",
      "| A.BAUM |  88  | 104  | 120  | 133  | 104  | 128  | 192  | 150  |  80  | 128  | 144  | 152  | 1523  |\n",
      "| E.AERO | 128  | 104  | 152  |  84  | 112  | 128  |  96  | 102  | 152  | 168  | 184  | 152  | 1562  |\n",
      "| C.FREU | 144  | 120  | 144  |  63  | 136  | 128  | 112  |  90  |  56  |  80  | 168  | 144  | 1385  |\n",
      "| K.PNEU | 144  |  80  |  56  |  91  | 216  |  64  |  48  |  78  | 184  |  72  | 224  |  88  | 1345  |\n",
      "| E.CLOA | 144  | 168  | 168  | 140  | 224  |  88  | 120  |  84  | 224  | 144  | 248  | 200  | 1952  |\n",
      "| P.RETT | 112  | 112  | 104  |  98  |  56  | 160  | 128  | 138  | 112  | 104  |  88  | 112  | 1324  |\n",
      "| P.MIRA | 112  | 152  |  64  |  70  | 240  |  88  | 112  |  42  | 264  |  80  | 256  | 136  | 1616  |\n",
      "| P.AERU |  80  | 112  |  32  |  98  | 136  |  56  | 120  |  48  | 264  |  40  | 192  |  88  | 1266  |\n",
      "|  SUM   | 1488 | 1448 | 1336 | 1344 | 1944 | 1320 | 1520 | 1152 | 2072 | 1296 | 2192 | 1704 | 18816 |\n",
      "+--------+------+------+------+------+------+------+------+------+------+------+------+------+-------+\n",
      "\n",
      "dilution group count by species & drug groups\n",
      "+--------+-----+-----+------+-----+------+-----+------+-----+-----+-----+------+-----+------+\n",
      "|        | GM  | TOB | CPFX | AS  | LVFX | IPM | MEPM | ST  | CAZ | CTX | CFPM | TP  | SUM  |\n",
      "+--------+-----+-----+------+-----+------+-----+------+-----+-----+-----+------+-----+------+\n",
      "| E.COLI | 20  | 20  |  21  | 26  |  35  | 18  |  24  | 16  | 32  | 13  |  35  | 27  | 287  |\n",
      "| K.OXYT | 15  | 13  |  14  | 14  |  20  | 14  |  15  | 20  | 17  | 12  |  16  | 19  | 189  |\n",
      "| S.MARC | 13  | 14  |  12  | 18  |  13  | 14  |  17  | 15  | 18  | 21  |  18  | 13  | 186  |\n",
      "| P.VULG | 17  | 13  |  15  | 19  |  21  | 14  |  17  | 10  | 23  | 14  |  16  | 19  | 198  |\n",
      "| A.BAUM | 10  | 13  |  15  | 19  |  13  | 16  |  24  | 23  | 10  | 16  |  18  | 19  | 196  |\n",
      "| E.AERO | 16  | 13  |  19  | 12  |  14  | 16  |  12  | 14  | 19  | 21  |  23  | 19  | 198  |\n",
      "| C.FREU | 18  | 15  |  18  |  9  |  17  | 16  |  14  | 15  |  7  | 10  |  21  | 18  | 178  |\n",
      "| K.PNEU | 17  | 10  |  7   | 13  |  24  |  8  |  5   | 11  | 20  |  9  |  26  | 11  | 161  |\n",
      "| E.CLOA | 18  | 20  |  21  | 20  |  28  | 11  |  14  | 12  | 28  | 18  |  31  | 23  | 244  |\n",
      "| P.RETT | 14  | 14  |  13  | 14  |  7   | 20  |  16  | 19  | 14  | 13  |  11  | 14  | 169  |\n",
      "| P.MIRA | 14  | 19  |  8   | 10  |  30  | 11  |  14  |  7  | 33  | 10  |  32  | 17  | 205  |\n",
      "| P.AERU | 10  | 13  |  4   | 14  |  16  |  7  |  14  |  7  | 33  |  5  |  23  | 11  | 157  |\n",
      "|  SUM   | 182 | 177 | 167  | 188 | 238  | 165 | 186  | 169 | 254 | 162 | 270  | 210 | 2368 |\n",
      "+--------+-----+-----+------+-----+------+-----+------+-----+-----+-----+------+-----+------+\n",
      "\n",
      "G/I accuracy in % by species & drug groups\n",
      "+--------+------+------+------+------+------+------+------+-------+------+------+------+------+------+\n",
      "|        |  GM  | TOB  | CPFX |  AS  | LVFX | IPM  | MEPM |  ST   | CAZ  | CTX  | CFPM |  TP  | MEAN |\n",
      "+--------+------+------+------+------+------+------+------+-------+------+------+------+------+------+\n",
      "| E.COLI | 97.2 | 93.2 | 98.2 | 95.2 | 98.3 | 95.1 | 97.0 | 90.7  | 94.5 | 95.2 | 89.9 | 91.1 | 94.6 |\n",
      "| K.OXYT | 97.5 | 95.2 | 98.2 | 94.9 | 95.0 | 94.6 | 98.3 | 95.5  | 96.3 | 90.6 | 94.5 | 94.1 | 95.4 |\n",
      "| S.MARC | 95.2 | 93.8 | 96.9 | 95.2 | 96.2 | 93.8 | 91.2 | 92.5  | 95.8 | 89.3 | 97.9 | 95.2 | 94.2 |\n",
      "| P.VULG | 93.4 | 95.2 | 99.2 | 94.0 | 95.8 | 94.6 | 96.3 | 100.0 | 94.0 | 89.3 | 93.0 | 93.4 | 94.6 |\n",
      "| A.BAUM | 92.0 | 92.3 | 95.8 | 85.0 | 97.1 | 96.1 | 94.3 | 91.3  | 93.8 | 95.3 | 88.2 | 84.2 | 91.9 |\n",
      "| E.AERO | 96.9 | 97.1 | 96.7 | 97.6 | 94.6 | 82.0 | 90.6 | 94.1  | 96.7 | 94.0 | 91.3 | 87.5 | 93.1 |\n",
      "| C.FREU | 94.4 | 94.2 | 95.1 | 96.8 | 94.9 | 89.1 | 98.2 | 97.8  | 91.1 | 91.2 | 91.7 | 86.8 | 93.2 |\n",
      "| K.PNEU | 93.1 | 96.2 | 94.6 | 95.6 | 94.4 | 89.1 | 93.8 | 98.7  | 92.4 | 79.2 | 86.6 | 89.8 | 91.7 |\n",
      "| E.CLOA | 90.3 | 95.8 | 94.0 | 98.6 | 93.8 | 92.0 | 94.2 | 95.2  | 83.0 | 88.2 | 84.3 | 83.0 | 90.1 |\n",
      "| P.RETT | 91.1 | 88.4 | 97.1 | 86.7 | 92.9 | 91.2 | 95.3 | 90.6  | 93.8 | 94.2 | 94.3 | 86.6 | 91.8 |\n",
      "| P.MIRA | 88.4 | 92.8 | 98.4 | 92.9 | 97.5 | 95.5 | 95.5 | 85.7  | 85.2 | 96.2 | 84.8 | 89.7 | 91.0 |\n",
      "| P.AERU | 92.5 | 84.8 | 96.9 | 92.9 | 91.9 | 92.9 | 90.0 | 91.7  | 91.3 | 90.0 | 90.6 | 86.4 | 90.6 |\n",
      "|  MEAN  | 93.7 | 93.2 | 96.7 | 93.8 | 95.5 | 92.1 | 94.7 | 93.6  | 91.7 | 91.4 | 89.7 | 88.8 | 92.7 |\n",
      "+--------+------+------+------+------+------+------+------+-------+------+------+------+------+------+\n",
      "\n",
      "AA accuracy in % by species & drug groups\n",
      "+--------+------+------+------+------+------+------+------+-------+------+------+------+------+------+\n",
      "|        |  GM  | TOB  | CPFX |  AS  | LVFX | IPM  | MEPM |  ST   | CAZ  | CTX  | CFPM |  TP  | MEAN |\n",
      "+--------+------+------+------+------+------+------+------+-------+------+------+------+------+------+\n",
      "| E.COLI | 75.0 | 50.0 | 85.7 | 65.4 | 85.7 | 61.1 | 79.2 | 62.5  | 68.8 | 76.9 | 54.3 | 59.3 | 68.6 |\n",
      "| K.OXYT | 80.0 | 61.5 | 85.7 | 64.3 | 65.0 | 57.1 | 86.7 | 75.0  | 76.5 | 66.7 | 62.5 | 63.2 | 70.4 |\n",
      "| S.MARC | 61.5 | 50.0 | 75.0 | 72.2 | 76.9 | 50.0 | 64.7 | 60.0  | 66.7 | 47.6 | 83.3 | 76.9 | 65.1 |\n",
      "| P.VULG | 52.9 | 61.5 | 93.3 | 63.2 | 76.2 | 57.1 | 76.5 | 100.0 | 69.6 | 57.1 | 56.2 | 68.4 | 68.7 |\n",
      "| A.BAUM | 40.0 | 53.8 | 66.7 | 42.1 | 76.9 | 68.8 | 54.2 | 47.8  | 60.0 | 62.5 | 33.3 | 21.1 | 51.0 |\n",
      "| E.AERO | 75.0 | 84.6 | 78.9 | 83.3 | 71.4 | 12.5 | 66.7 | 64.3  | 78.9 | 66.7 | 60.9 | 47.4 | 65.2 |\n",
      "| C.FREU | 55.6 | 60.0 | 66.7 | 77.8 | 58.8 | 25.0 | 85.7 | 86.7  | 42.9 | 70.0 | 57.1 | 33.3 | 59.0 |\n",
      "| K.PNEU | 47.1 | 80.0 | 57.1 | 69.2 | 58.3 | 12.5 | 80.0 | 90.9  | 60.0 | 11.1 | 34.6 | 45.5 | 52.8 |\n",
      "| E.CLOA | 50.0 | 65.0 | 61.9 | 90.0 | 53.6 | 54.5 | 57.1 | 66.7  | 42.9 | 50.0 | 35.5 | 47.8 | 54.5 |\n",
      "| P.RETT | 35.7 | 42.9 | 76.9 | 50.0 | 42.9 | 65.0 | 68.8 | 63.2  | 78.6 | 69.2 | 72.7 | 57.1 | 60.9 |\n",
      "| P.MIRA | 28.6 | 52.6 | 87.5 | 50.0 | 80.0 | 63.6 | 64.3 | 57.1  | 45.5 | 80.0 | 40.6 | 64.7 | 57.1 |\n",
      "| P.AERU | 50.0 | 30.8 | 75.0 | 71.4 | 37.5 | 42.9 | 35.7 | 71.4  | 45.5 | 40.0 | 47.8 | 18.2 | 45.2 |\n",
      "|  MEAN  | 55.5 | 57.1 | 76.0 | 66.5 | 67.6 | 49.1 | 67.7 | 68.6  | 59.8 | 59.3 | 50.7 | 51.0 | 60.4 |\n",
      "+--------+------+------+------+------+------+------+------+-------+------+------+------+------+------+\n",
      "\n",
      "EA accuracy in % by species & drug groups\n",
      "+--------+-------+-------+-------+-------+-------+-------+-------+-------+-------+-------+-------+------+------+\n",
      "|        |  GM   |  TOB  | CPFX  |  AS   | LVFX  |  IPM  | MEPM  |  ST   |  CAZ  |  CTX  | CFPM  |  TP  | MEAN |\n",
      "+--------+-------+-------+-------+-------+-------+-------+-------+-------+-------+-------+-------+------+------+\n",
      "| E.COLI | 100.0 | 95.0  | 100.0 | 100.0 | 100.0 | 100.0 | 95.8  | 81.2  | 87.5  | 84.6  | 82.9  | 81.5 | 92.3 |\n",
      "| K.OXYT | 100.0 | 100.0 | 100.0 | 100.0 | 95.0  | 100.0 | 100.0 | 95.0  | 94.1  | 66.7  | 93.8  | 89.5 | 94.7 |\n",
      "| S.MARC | 100.0 | 100.0 | 100.0 | 94.4  | 100.0 | 100.0 | 94.1  | 100.0 | 100.0 | 81.0  | 100.0 | 92.3 | 96.2 |\n",
      "| P.VULG | 94.1  | 100.0 | 100.0 | 94.7  | 95.2  | 100.0 | 94.1  | 100.0 | 91.3  | 78.6  | 87.5  | 89.5 | 93.4 |\n",
      "| A.BAUM | 100.0 | 84.6  | 100.0 | 68.4  | 100.0 | 100.0 | 100.0 | 100.0 | 90.0  | 100.0 | 77.8  | 63.2 | 89.8 |\n",
      "| E.AERO | 100.0 | 92.3  | 94.7  | 100.0 | 85.7  | 62.5  | 83.3  | 92.9  | 94.7  | 90.5  | 87.0  | 63.2 | 86.9 |\n",
      "| C.FREU | 100.0 | 100.0 | 94.4  | 100.0 | 100.0 | 87.5  | 100.0 | 100.0 | 85.7  | 70.0  | 81.0  | 72.2 | 91.0 |\n",
      "| K.PNEU | 100.0 | 90.0  | 100.0 | 100.0 | 91.7  | 100.0 | 80.0  | 100.0 | 80.0  | 55.6  | 69.2  | 72.7 | 85.7 |\n",
      "| E.CLOA | 88.9  | 100.0 | 90.5  | 100.0 | 96.4  | 90.9  | 92.9  | 100.0 | 64.3  | 77.8  | 64.5  | 69.6 | 84.0 |\n",
      "| P.RETT | 92.9  | 71.4  | 100.0 | 78.6  | 100.0 | 85.0  | 93.8  | 94.7  | 92.9  | 92.3  | 90.9  | 71.4 | 88.2 |\n",
      "| P.MIRA | 78.6  | 94.7  | 100.0 | 100.0 | 100.0 | 100.0 | 100.0 | 71.4  | 66.7  | 90.0  | 75.0  | 76.5 | 85.4 |\n",
      "| P.AERU | 90.0  | 69.2  | 100.0 | 85.7  | 93.8  | 100.0 | 85.7  | 71.4  | 84.8  | 80.0  | 82.6  | 72.7 | 84.1 |\n",
      "|  MEAN  | 95.6  | 92.1  | 97.6  | 93.1  | 96.6  | 92.7  | 94.6  | 94.1  | 83.9  | 82.1  | 80.7  | 76.2 | 89.4 |\n",
      "+--------+-------+-------+-------+-------+-------+-------+-------+-------+-------+-------+-------+------+------+\n",
      "\n",
      "undeter in % by species & drug groups\n",
      "+--------+-----+-----+------+-----+------+-----+------+-----+-----+-----+------+-----+------+\n",
      "|        | GM  | TOB | CPFX | AS  | LVFX | IPM | MEPM | ST  | CAZ | CTX | CFPM | TP  | SUM  |\n",
      "+--------+-----+-----+------+-----+------+-----+------+-----+-----+-----+------+-----+------+\n",
      "| E.COLI | 0.0 | 0.0 | 0.0  | 0.0 | 0.0  | 0.0 | 0.0  | 0.0 | 0.0 | 2.0 | 1.0  | 1.0 | 4.0  |\n",
      "| K.OXYT | 0.0 | 0.0 | 0.0  | 0.0 | 0.0  | 0.0 | 0.0  | 0.0 | 0.0 | 0.0 | 0.0  | 0.0 | 0.0  |\n",
      "| S.MARC | 0.0 | 0.0 | 0.0  | 0.0 | 0.0  | 0.0 | 0.0  | 0.0 | 0.0 | 0.0 | 0.0  | 0.0 | 0.0  |\n",
      "| P.VULG | 0.0 | 0.0 | 0.0  | 0.0 | 0.0  | 0.0 | 0.0  | 0.0 | 1.0 | 0.0 | 0.0  | 0.0 | 1.0  |\n",
      "| A.BAUM | 0.0 | 0.0 | 0.0  | 1.0 | 0.0  | 0.0 | 0.0  | 0.0 | 0.0 | 0.0 | 1.0  | 0.0 | 2.0  |\n",
      "| E.AERO | 0.0 | 0.0 | 0.0  | 0.0 | 0.0  | 0.0 | 0.0  | 0.0 | 1.0 | 0.0 | 0.0  | 1.0 | 2.0  |\n",
      "| C.FREU | 0.0 | 0.0 | 0.0  | 0.0 | 0.0  | 0.0 | 0.0  | 0.0 | 0.0 | 1.0 | 1.0  | 0.0 | 2.0  |\n",
      "| K.PNEU | 0.0 | 0.0 | 0.0  | 0.0 | 0.0  | 0.0 | 0.0  | 0.0 | 0.0 | 2.0 | 2.0  | 1.0 | 5.0  |\n",
      "| E.CLOA | 1.0 | 0.0 | 0.0  | 0.0 | 0.0  | 0.0 | 0.0  | 0.0 | 4.0 | 0.0 | 1.0  | 4.0 | 10.0 |\n",
      "| P.RETT | 0.0 | 0.0 | 0.0  | 0.0 | 0.0  | 0.0 | 0.0  | 0.0 | 0.0 | 0.0 | 0.0  | 1.0 | 1.0  |\n",
      "| P.MIRA | 0.0 | 0.0 | 0.0  | 0.0 | 0.0  | 0.0 | 0.0  | 0.0 | 1.0 | 0.0 | 1.0  | 0.0 | 2.0  |\n",
      "| P.AERU | 1.0 | 0.0 | 0.0  | 0.0 | 0.0  | 0.0 | 0.0  | 0.0 | 0.0 | 0.0 | 0.0  | 0.0 | 1.0  |\n",
      "|  SUM   | 2.0 | 0.0 | 0.0  | 1.0 | 0.0  | 0.0 | 0.0  | 0.0 | 7.0 | 5.0 | 7.0  | 8.0 | 30.0 |\n",
      "+--------+-----+-----+------+-----+------+-----+------+-----+-----+-----+------+-----+------+\n"
     ]
    }
   ],
   "source": [
    "tableHeader = list([''] + drugSet)\n",
    "tableDataCount = []\n",
    "tableDataGroupCount = []\n",
    "tableDataAcc = []\n",
    "tableDataAccAA = []\n",
    "tableDataAccEA = []\n",
    "tableDataUndet = []\n",
    "\n",
    "sampCount = sampCount.astype(int)\n",
    "groupCount = groupCount.astype(int)\n",
    "accRate = np.round((1 - errCount / sampCount) * 100, decimals=1)\n",
    "accAARate = np.round((accAACount / groupCount) * 100, decimals=1)\n",
    "accEARate = np.round((accEACount / groupCount) * 100, decimals=1)\n",
    "\n",
    "for n, strain in enumerate(strainSet):\n",
    "    tableDataCount.append([strainSet[n][0:6]] + list(sampCount[n]))\n",
    "    tableDataGroupCount.append([strainSet[n][0:6]] + list(groupCount[n]))\n",
    "    tableDataAcc.append([strainSet[n][0:6]] + list(accRate[n]))\n",
    "    tableDataAccAA.append([strainSet[n][0:6]] + list(accAARate[n]))\n",
    "    tableDataAccEA.append([strainSet[n][0:6]] + list(accEARate[n]))\n",
    "    tableDataUndet.append([strainSet[n][0:6]] + list(undetCount[n]))\n",
    "\n",
    "tableDataCount.append(['SUM'] + list(sampCount[-1,:]))\n",
    "tableDataGroupCount.append(['SUM'] + list(groupCount[-1,:]))\n",
    "tableDataAcc.append(['MEAN'] + list(accRate[-1,:]))\n",
    "tableDataAccAA.append(['MEAN'] + list(accAARate[-1,:]))\n",
    "tableDataAccEA.append(['MEAN'] + list(accEARate[-1,:]))\n",
    "tableDataUndet.append(['SUM'] + list(undetCount[-1,:]))\n",
    "\n",
    "sampCountTable = tabulate(tableDataCount, headers=tableHeader+['SUM'], tablefmt=\"pretty\")\n",
    "groupCountTable = tabulate(tableDataGroupCount, headers=tableHeader+['SUM'], tablefmt=\"pretty\")\n",
    "accRateTable = tabulate(tableDataAcc, headers=tableHeader+['MEAN'], tablefmt=\"pretty\", floatfmt=\".1f\")\n",
    "accAARateTable = tabulate(tableDataAccAA, headers=tableHeader+['MEAN'], tablefmt=\"pretty\", floatfmt=\".1f\")\n",
    "accEARateTable = tabulate(tableDataAccEA, headers=tableHeader+['MEAN'], tablefmt=\"pretty\", floatfmt=\".1f\")\n",
    "undetCountTable = tabulate(tableDataUndet, headers=tableHeader+['SUM'], tablefmt=\"pretty\")\n",
    "\n",
    "print('example count by species & drug groups')\n",
    "print(sampCountTable)\n",
    "print()\n",
    "print('dilution group count by species & drug groups')\n",
    "print(groupCountTable)\n",
    "print()\n",
    "print('G/I accuracy in % by species & drug groups')\n",
    "print(accRateTable)\n",
    "print()\n",
    "print('AA accuracy in % by species & drug groups')\n",
    "print(accAARateTable)\n",
    "print()\n",
    "print('EA accuracy in % by species & drug groups')\n",
    "print(accEARateTable)\n",
    "print()\n",
    "print('undeter in % by species & drug groups')\n",
    "print(undetCountTable)\n",
    "\n",
    "# plt.figure(figsize=(12,8))\n",
    "# sn.heatmap(accRate, annot=True, square=False)\n",
    "# plt.title('accuracy in % by species & drug groups')"
   ]
  },
  {
   "cell_type": "code",
   "execution_count": 39,
   "metadata": {},
   "outputs": [],
   "source": [
    "workSheet = workBook.add_worksheet('sample count by group')\n",
    "\n",
    "workSheet.write_row(0, 0, tableHeader+['SUM'])\n",
    "for n, row in enumerate(tableDataCount):\n",
    "    workSheet.write_row(n+1, 0, row)\n",
    "\n",
    "workSheet.write_row(n+4, 0, ['drugs:']+drugSet)\n",
    "workSheet.write_row(n+5, 0, ['species:']+strainSet)\n",
    "\n",
    "workSheet = workBook.add_worksheet('dilution group count by group')\n",
    "\n",
    "workSheet.write_row(0, 0, tableHeader+['SUM'])\n",
    "for n, row in enumerate(tableDataGroupCount):\n",
    "    workSheet.write_row(n+1, 0, row)\n",
    "\n",
    "workSheet.write_row(n+4, 0, ['drugs:']+drugSet)\n",
    "workSheet.write_row(n+5, 0, ['species:']+strainSet)\n",
    "\n",
    "workSheet = workBook.add_worksheet('accuracy by group')\n",
    "\n",
    "workSheet.write_row(0, 0, tableHeader+['MEAN'])\n",
    "for n, row in enumerate(tableDataAcc):\n",
    "    workSheet.write_row(n+1, 0, row)\n",
    "    \n",
    "workSheet.write_row(n+4, 0, ['drugs:']+drugSet)\n",
    "workSheet.write_row(n+5, 0, ['species:']+strainSet)\n",
    "\n",
    "workSheet = workBook.add_worksheet('AA accuracy by group')\n",
    "\n",
    "workSheet.write_row(0, 0, tableHeader+['MEAN'])\n",
    "for n, row in enumerate(tableDataAccAA):\n",
    "    workSheet.write_row(n+1, 0, row)\n",
    "    \n",
    "workSheet.write_row(n+4, 0, ['drugs:']+drugSet)\n",
    "workSheet.write_row(n+5, 0, ['species:']+strainSet)\n",
    "\n",
    "workSheet = workBook.add_worksheet('EA accuracy by group')\n",
    "\n",
    "workSheet.write_row(0, 0, tableHeader+['MEAN'])\n",
    "for n, row in enumerate(tableDataAccEA):\n",
    "    workSheet.write_row(n+1, 0, row)\n",
    "    \n",
    "workSheet.write_row(n+4, 0, ['drugs:']+drugSet)\n",
    "workSheet.write_row(n+5, 0, ['species:']+strainSet)\n",
    "\n",
    "workSheet = workBook.add_worksheet('undertermined count by group')\n",
    "\n",
    "workSheet.write_row(0, 0, tableHeader+['SUM'])\n",
    "for n, row in enumerate(tableDataUndet):\n",
    "    workSheet.write_row(n+1, 0, row)\n",
    "\n",
    "workSheet.write_row(n+4, 0, ['drugs:']+drugSet)\n",
    "workSheet.write_row(n+5, 0, ['species:']+strainSet)\n",
    "\n",
    "workBook.close()"
   ]
  },
  {
   "cell_type": "code",
   "execution_count": null,
   "metadata": {},
   "outputs": [],
   "source": []
  }
 ],
 "metadata": {
  "kernelspec": {
   "display_name": "Python 3",
   "language": "python",
   "name": "python3"
  },
  "language_info": {
   "codemirror_mode": {
    "name": "ipython",
    "version": 3
   },
   "file_extension": ".py",
   "mimetype": "text/x-python",
   "name": "python",
   "nbconvert_exporter": "python",
   "pygments_lexer": "ipython3",
   "version": "3.8.5"
  }
 },
 "nbformat": 4,
 "nbformat_minor": 4
}
